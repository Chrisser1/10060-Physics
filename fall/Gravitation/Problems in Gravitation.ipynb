{
 "cells": [
  {
   "cell_type": "markdown",
   "id": "d064f509",
   "metadata": {},
   "source": [
    "### Problems in Gravitation"
   ]
  },
  {
   "cell_type": "code",
   "execution_count": 1,
   "id": "13d0c75d",
   "metadata": {},
   "outputs": [],
   "source": [
    "import pint\n",
    "\n",
    "ureg = pint.get_application_registry()\n",
    "Q_ = ureg.Quantity"
   ]
  },
  {
   "cell_type": "markdown",
   "id": "ed60983c",
   "metadata": {},
   "source": [
    "#### Problem - Motion of the international space station (ISS) right now\n",
    "The two lines of Python code below should display a web page with current information about the ISS right now.\n",
    "You can assume that the ISS moves around Earth in uniform circular motion. Start by executing the two commands below.\n",
    "\n",
    ">a) Note down the altitude, the speed, and the period of the ISS. (If you cannot get access to the information now, you may use the values\n",
    "$h=427.63\\text{ km}$, $v=7.65\\text{ km/s}$, and $T=93\\text{ min}$.) As the information is update live you may want to take a screenshot from which you can read of the values. \n",
    "\n",
    ">b) Use the value for the altitude to compute the speed of the ISS right now.\n",
    "\n",
    ">c) Use the value of the altitude and the calculated value of the speed to determine the period of the ISS orbit.\n",
    "\n",
    ">d) Compare your calculated values to the values you read at the web site.\n"
   ]
  },
  {
   "cell_type": "code",
   "execution_count": 2,
   "id": "70228274",
   "metadata": {},
   "outputs": [
    {
     "data": {
      "text/html": [
       "\n",
       "        <iframe\n",
       "            width=\"900\"\n",
       "            height=\"800\"\n",
       "            src=\"https://www.n2yo.com/?s=25544&live=0\"\n",
       "            frameborder=\"0\"\n",
       "            allowfullscreen\n",
       "            \n",
       "        ></iframe>\n",
       "        "
      ],
      "text/plain": [
       "<IPython.lib.display.IFrame at 0x7f83d556cb90>"
      ]
     },
     "execution_count": 2,
     "metadata": {},
     "output_type": "execute_result"
    }
   ],
   "source": [
    "from IPython.display import IFrame\n",
    "IFrame(src='https://www.n2yo.com/?s=25544&live=0', width=900, height=800)"
   ]
  },
  {
   "cell_type": "code",
   "execution_count": 3,
   "id": "fc4b559b",
   "metadata": {},
   "outputs": [],
   "source": [
    "import numpy as np\n",
    "# a)\n",
    "h = Q_(427.63, 'km') \n",
    "v = Q_(7.65, 'km/s')\n",
    "T = Q_(93, 'minutes')\n"
   ]
  },
  {
   "cell_type": "markdown",
   "id": "b148da75",
   "metadata": {},
   "source": [
    "### b)\n",
    "We use the formula:\n",
    "$$\n",
    "v = \\sqrt{\\frac{G \\cdot m}{A}}\n",
    "$$\n"
   ]
  },
  {
   "cell_type": "code",
   "execution_count": 4,
   "id": "3bbce634",
   "metadata": {},
   "outputs": [
    {
     "name": "stdout",
     "output_type": "stream",
     "text": [
      "The velocity at orbit is 7.66 kilometer / second\n"
     ]
    }
   ],
   "source": [
    "width_earth = Q_(12742, 'km')\n",
    "A = Q_(421.93, 'km') + (width_earth / 2)\n",
    "m_earth = Q_(5.972e24, 'kg')\n",
    "G = Q_(6.67e-11, 'N * m^2 / kg^2')\n",
    "v_orbit = np.sqrt(G * m_earth / A)\n",
    "print(f\"The velocity at orbit is {v_orbit.to('km/s'):.2f}\")"
   ]
  },
  {
   "cell_type": "markdown",
   "id": "503d347d",
   "metadata": {},
   "source": [
    "### c)\n",
    "We use the formula:\n",
    "$$\n",
    "v = \\frac{2\\pi r}{T} \\Leftrightarrow T = \\frac{2\\pi r}{v}\n",
    "$$"
   ]
  },
  {
   "cell_type": "code",
   "execution_count": 5,
   "id": "dc95eb05",
   "metadata": {},
   "outputs": [
    {
     "name": "stdout",
     "output_type": "stream",
     "text": [
      "The period of the orbit is 93 minute\n"
     ]
    }
   ],
   "source": [
    "T_cal = (2 * np.pi * A) / v_orbit\n",
    "print(f\"The period of the orbit is {T_cal.to('minutes'):.0f}\")"
   ]
  },
  {
   "cell_type": "markdown",
   "id": "122e9d53",
   "metadata": {},
   "source": [
    "### d)\n",
    "My calculated values are the same if rounded to the same decimals."
   ]
  },
  {
   "attachments": {
    "image-2.png": {
     "image/png": "[encoded data removed]"
    }
   },
   "cell_type": "markdown",
   "id": "3a03d6a4",
   "metadata": {},
   "source": [
    "#### Problem - Object in elliptic orbit\n",
    "An object is launched from point A, at the surface of the Earth (blue circle with radius $R$ and mass $M$) and follows the orbit shown below.\n",
    "\n",
    "![image-2.png](attachment:image-2.png)\n",
    "\n",
    "At the launch point the speed is $v_1$; the initial velocity is tangential to the surface of the Earth. \n",
    "At the last shown point, point B, the object is at a distance of $3R$ from its launch point.\n",
    "\n",
    "Ignore air resistance.\n",
    "\n",
    ">a) Determine the speed $v_2$ at the point B."
   ]
  },
  {
   "cell_type": "markdown",
   "id": "09ab8943",
   "metadata": {},
   "source": [
    "To decided the speed $v_2$ we need to analyze the image based on energy conservation where we know that at point A we have the same energy as at point B as we neither lose or add energy\n",
    "$$\n",
    "E = K_A + U_A = K_B + U_B\n",
    "$$\n",
    "This translates to\n",
    "$$\n",
    "\\frac{mv_1^2}{2} - \\frac{GMm}{r_1} = \\frac{mv_2^2}{2} - \\frac{GMm}{r_2} \n",
    "$$\n",
    "So we just need to solve this"
   ]
  },
  {
   "cell_type": "code",
   "execution_count": 9,
   "id": "9bd41986",
   "metadata": {},
   "outputs": [
    {
     "name": "stdout",
     "output_type": "stream",
     "text": [
      "The speed at B can be calculated as -sqrt(2*G*M/r2 - 2*G*M/r1 + v1**2).\n"
     ]
    }
   ],
   "source": [
    "from sympy import symbols, solve, Eq\n",
    "\n",
    "G, M, m, v1, v2, r1, r2 = symbols('G M m v1 v2 r1 r2')\n",
    "eq = Eq((m*v1**2 / 2) - (G*M*m/r1), (m*v2**2 / 2) - (G*M*m/r2))\n",
    "v2_solution = solve(eq, v2)\n",
    "print(f\"The speed at B can be calculated as {v2_solution[0]}.\")"
   ]
  },
  {
   "attachments": {
    "image.png": {
     "image/png": "[encoded data removed]"
    }
   },
   "cell_type": "markdown",
   "id": "78ef80ff",
   "metadata": {},
   "source": [
    "####  Problem - Escape velocity for object between two planets\n",
    "An object with the mass $m$ is launched from between two planet. The escape velocity for the object is called $v_e$.\n",
    "The situation is shown in the figure below. \n",
    "\n",
    "![image.png](attachment:image.png)\n",
    "\n",
    ">a) Determine an expression for the escape velocity for the particle starting between the two planets.\n"
   ]
  },
  {
   "cell_type": "markdown",
   "id": "c3bf6d7b",
   "metadata": {},
   "source": [
    "We know that we can use the escape condition can be written as\n",
    "$$\n",
    "v_{esc} = \\sqrt{\\frac{2GM}{R}}\n",
    "$$\n",
    "But as we have two objects with a gravitational pull we can't just use that equation. Instead we need to use the fact that an object has \"escaped\" when it can reach an infinite distance away with zero kinetic energy. At this infinite point, its gravitational potential energy is also zero. Therefore, the total energy of an object at escape velocity must be zero.\n",
    "$$\n",
    "E = K + U = 0\n",
    "$$\n",
    "We can now write this up for our objects and solve"
   ]
  },
  {
   "cell_type": "code",
   "execution_count": 19,
   "id": "577e8b2b",
   "metadata": {},
   "outputs": [
    {
     "name": "stdout",
     "output_type": "stream",
     "text": [
      "U_tot = - \\frac{G M_{1} m}{d_{1}} - \\frac{G M_{2} m}{d_{2}}\n",
      "The escape velocity can be calculated as \\sqrt{2} \\sqrt{G \\left(\\frac{M_{1}}{d_{1}} + \\frac{M_{2}}{d_{2}}\\right)}.\n"
     ]
    }
   ],
   "source": [
    "from sympy import latex, symbols, solve, Eq\n",
    "\n",
    "G, M1, M2, m, v, d1, d2 = symbols('G M1 M2 m v d1 d2')\n",
    "\n",
    "# We start out by writig U_tot = U1 + U2\n",
    "U1 = -G * M1 * m / d1\n",
    "U2 = -G * M2 * m / d2\n",
    "U_tot = U1 + U2\n",
    "\n",
    "# The intial kinetic energy of the object is simple as it is just\n",
    "K = m * v**2 / 2\n",
    "\n",
    "# We can now solve the equation for the escape velocity\n",
    "eq = Eq(K + U_tot, 0)\n",
    "v_solution = solve(eq, v)\n",
    "\n",
    "print(f\"U_tot = {latex(U_tot)}\")\n",
    "print(f\"The escape velocity can be calculated as {latex(v_solution[1])}.\")"
   ]
  },
  {
   "cell_type": "markdown",
   "id": "95136bb6",
   "metadata": {},
   "source": [
    "$$\n",
    "U_{tot} = \\frac{G m \\left(- M_{1} d_{2} - M_{2} d_{1}\\right)}{d_{1} d_{2}}\n",
    "$$\n",
    "$$\n",
    "v_e = \\sqrt{2G \\left(\\frac{M_{1}}{d_{1}} + \\frac{M_{2}}{d_{2}}\\right)}.\n",
    "$$"
   ]
  },
  {
   "cell_type": "markdown",
   "id": "4c21eb19",
   "metadata": {},
   "source": [
    "#### Problem - Conservation of energy and angular momentum\n",
    "A small object (red disc below) is, far from Earth (blue disc below), moving towards the left with speed $v_1$. The orbit of the object is, far away from Earth, \n",
    "a straight line (shown as a solid black line), that is located three times the Earth radius above center of the Earth.\n",
    "As the object approaches Earth its orbit deviates more and more from the straight line (illustrated by the dashed black line), and it ends up colliding with Earth with a speed $v_2$.\n",
    "The velocity at the point of collision is tangential to the Earth's surface.\n",
    "\n",
    ">a) Explain why mechanical energy and angular momentum with repect to the centre of the Earth are conserved.\n",
    "\n",
    ">b) Write down equations expressing conservation mechanical energy and angular momentum.\n",
    "\n",
    ">c) Solve the equations for the speeds, $v_1$ and $v_2$."
   ]
  },
  {
   "cell_type": "code",
   "execution_count": 6,
   "id": "c3d29287",
   "metadata": {},
   "outputs": [
    {
     "data": {
      "image/png": "[encoded data removed]",
      "text/plain": [
       "<Figure size 640x480 with 1 Axes>"
      ]
     },
     "metadata": {},
     "output_type": "display_data"
    }
   ],
   "source": [
    "import numpy as np\n",
    "x = np.linspace(0.12,-0.022,101)\n",
    "y = 0.06+0*x-2.28*(x-0.12)**2\n",
    "import matplotlib.pyplot as plt\n",
    "plt.figure()\n",
    "plt.plot([0],[0],'bo',markersize=98)\n",
    "plt.plot([-0.04,0.18],[0.06,0.06],'k-')\n",
    "plt.plot([0.12],[0.06],'ro',markersize=10)\n",
    "plt.ylim(-0.03,0.07)\n",
    "plt.plot(x,y,'k--')\n",
    "plt.axis('off')\n",
    "plt.show()"
   ]
  },
  {
   "cell_type": "markdown",
   "id": "fece7219",
   "metadata": {},
   "source": [
    "### a)\n",
    "The total mechanical energy of an object is the sum of its kinetic energy (K) and its gravitational potential energy (U). This total energy is conserved if the only forces doing work on the object are conservative forces. As the only force doing work on the object is the gravity from earth, and that is conservative, it's therefore conserving the mechanical energy.\n",
    "\n",
    "Angular momentum is conserved if the net external torque ($\\tau$) acting on the object, relative to a chosen point, is zero. In this case, the natural point to choose is the center of the Earth. We can then calculate the torque which is defined as $\\tau = r \\times F$, where r is the position vector from the center of the earth to the object, and F is the force acting on the object. We know that the force F is the gravity and that it will always point towards the center, where r points towards the object from the center of earth. As this is allong the same path the cross product is always zero, therefore the angular momentum stays constant."
   ]
  },
  {
   "cell_type": "markdown",
   "id": "a0a46225",
   "metadata": {},
   "source": [
    "### b)\n",
    "We can analyse the two points:\n",
    "* $P_1$: The object is \"far from Earth\" with speed $v_1​$.\n",
    "* $P_2$: The object collides with Earth's surface with speed $v_2​$.\n",
    "\n",
    "We know that we conserve all energy, so\n",
    "$$\n",
    "E_1 = E_2\n",
    "$$\n",
    "The initial energy $E_1$ must be\n",
    "$$\n",
    "E_1 = \\frac{mv^2}{2}\n",
    "$$\n",
    "For the final energy $E_2$ we know that at the surface of the Earth, the distance is $r_2​=R_E$​. The energy is the sum of its kinetic and potential energy:\n",
    "$$\n",
    "E_2 = \\frac{1}{2}mv_2^2 - \\frac{GM_Em}{R_E}\n",
    "$$\n",
    "We now have the first equation:\n",
    "$$\n",
    "\\frac{1}{2}mv_1^2 = \\frac{1}{2}mv_2^2 - \\frac{GM_Em}{R_E}\n",
    "$$\n",
    "\n",
    "Now we can focus on the conservation of angular momentum\n",
    "$$\n",
    "L = mvr\n",
    "$$\n",
    "where the initial momentum must be\n",
    "$$\n",
    "L_1 = mv_1(3R_E)\n",
    "$$\n",
    "and the final momentum must be\n",
    "$$\n",
    "L_2 = mv_2R_E\n",
    "$$\n",
    "giving us\n",
    "$$\n",
    "mv_2R_E = mv_1(3R_E)\n",
    "$$"
   ]
  },
  {
   "cell_type": "code",
   "execution_count": 29,
   "id": "51eaafa7",
   "metadata": {},
   "outputs": [
    {
     "name": "stdout",
     "output_type": "stream",
     "text": [
      "The speeds can be calculated as v_1 = 0.5 \\sqrt{\\frac{G M_{E}}{R_{E}}} and v_2 = 1.5 \\sqrt{\\frac{G M_{E}}{R_{E}}}.\n"
     ]
    }
   ],
   "source": [
    "# c)\n",
    "G, M_E, m, v_1, v_2, R_E = symbols('G M_E m v_1 v_2 R_E')\n",
    "\n",
    "eq1 = Eq(1/2 * m * v_1**2, 1/2 * m * v_2**2 - (G * M_E * m / R_E))\n",
    "eq2 = Eq(m * v_2 * R_E, m * v_1 * (3 * R_E))\n",
    "v_solution = solve((eq1, eq2), (v_1, v_2))\n",
    "\n",
    "print(f\"The speeds can be calculated as v_1 = {latex(v_solution[1][0])} and v_2 = {latex(v_solution[1][1])}.\")"
   ]
  },
  {
   "cell_type": "markdown",
   "id": "5cb830c7",
   "metadata": {},
   "source": [
    "$$\n",
    "v_1 = 0.5 \\sqrt{\\frac{G M_{E}}{R_{E}}}\n",
    "$$\n",
    "$$\n",
    "v_2 = 1.5 \\sqrt{\\frac{G M_{E}}{R_{E}}}\n",
    "$$"
   ]
  },
  {
   "cell_type": "markdown",
   "id": "4e79d196",
   "metadata": {},
   "source": [
    "#### Problem - Simulation of satellite in motion\n",
    "The equations of motion for a satellite only influenced by the gravitational force from the Earth in first order form is\n",
    "$$\\frac{dx}{dt}=v_x$$\n",
    "$$\\frac{dy}{dt}=v_y$$\n",
    "$$m\\frac{dv_x}{dt}=-\\frac{GMmx}{\\left(x^2+y^2\\right)^{3/2}}$$\n",
    "$$m\\frac{dv_y}{dt}=-\\frac{GMmy}{\\left(x^2+y^2\\right)^{3/2}}$$\n",
    "\n",
    "By picking appropriate natural scales, these equations can be brought to the non-dimensionalised form\n",
    "$$\\frac{dX}{dT}=V_X$$\n",
    "$$\\frac{dY}{dT}=V_Y$$\n",
    "$$\\frac{dV_X}{dT}=-\\frac{X}{\\left(X^2+Y^2\\right)^{3/2}}$$\n",
    "$$\\frac{dV_Y}{dT}=-\\frac{Y}{\\left(X^2+Y^2\\right)^{3/2}}$$\n",
    "The Earth has radius one in the non-dimensionalised form.\n",
    "\n",
    "We will use the non-dimensionalised form in this problem. \n",
    "\n",
    ">a) [Optional] Verify the equations of motion (the dimension version).\n",
    "\n",
    ">b) Simulate the motion of the satellite with initial conditions $X=2, Y=0, V_X=0, V_Y=1$. Find a suitable time interval, and\n",
    "plot the orbit together with the Earth. \n",
    "\n",
    ">c) What should the initial condition for $V_Y$ be changed to in order for the satellite to escape to infinity?\n",
    "\n",
    "<details> <summary>Hint 1 for c) click here</summary> You can approach it by trial-and-error and simulate with different initial velocities in the Y-direction.</details>\n",
    "<details> <summary>Hint 2 for c) click here</summary> If you prefer an analytical approach you may use that the kinetic energy is 1/2*(V_X+V_Y)**2 and\n",
    "the potential energy is -1/np.sqrt(X**2+Y**2)</details>\n",
    "\n",
    "To draw the Earth in non-dimensionalized form, you may use\n",
    "```python\n",
    "t = np.linspace(0,2*np.pi,100)\n",
    "plt.plot(np.cos(t),np.sin(t),'b-')\n",
    "```"
   ]
  },
  {
   "cell_type": "markdown",
   "id": "fb494b1b",
   "metadata": {},
   "source": [
    "### Answer\n",
    "For simplicity we define \n",
    "$$\n",
    "\\frac{dV_Y}{dT}=-\\frac{Y}{\\left(X^2+Y^2\\right)^{3/2}} \\Leftrightarrow \\frac{dV_Y}{dT}=-\\frac{Y}{r} \\text{ where } r = \\left(X^2+Y^2\\right)^{3/2}\n",
    "$$"
   ]
  },
  {
   "cell_type": "code",
   "execution_count": 65,
   "id": "8c4e4c0a",
   "metadata": {},
   "outputs": [
    {
     "data": {
      "image/png": "[encoded data removed]",
      "text/plain": [
       "<Figure size 800x800 with 1 Axes>"
      ]
     },
     "metadata": {},
     "output_type": "display_data"
    }
   ],
   "source": [
    "import numpy as np\n",
    "import matplotlib.pyplot as plt\n",
    "from scipy.integrate import solve_ivp\n",
    "\n",
    "def model(T, S):\n",
    "    \"\"\"\n",
    "    S is the state vector [X, Y, VX, VY]\n",
    "    T is time\n",
    "    \"\"\"\n",
    "    X, Y, VX, VY = S\n",
    "    r = (X**2 + Y**2)**1.5\n",
    "    \n",
    "    dXdT = VX\n",
    "    dYdT = VY\n",
    "    dVXdT = -X / r\n",
    "    dVYdT = -Y / r\n",
    "\n",
    "    return [dXdT, dYdT, dVXdT, dVYdT]\n",
    "\n",
    "X = 2; Y = 0; VX = 0; VY = 1\n",
    "S0 = [X, Y, VX, VY]\n",
    "T_span = (0, 200)\n",
    "T_eval = np.linspace(T_span[0], T_span[1], 1000)\n",
    "\n",
    "sol = solve_ivp(model, T_span, S0, t_eval=T_eval)\n",
    "plt.figure(figsize=(8,8))\n",
    "t = np.linspace(0,2*np.pi,100)\n",
    "plt.plot(np.cos(t),np.sin(t),'b-', linewidth=2, label='Earth')\n",
    "plt.plot(sol.y[0], sol.y[1], 'r-', label='Satellite orbit')\n",
    "plt.plot(S0[0], S0[1], 'ro', markersize=4, label='Start point')\n",
    "plt.title('Satellite Orbit Simulation')\n",
    "plt.xlabel('X')\n",
    "plt.ylabel('Y')\n",
    "plt.grid(True)\n",
    "plt.axis('equal')\n",
    "plt.legend()\n",
    "plt.show()\n"
   ]
  },
  {
   "cell_type": "markdown",
   "id": "670c7f69",
   "metadata": {},
   "source": [
    "\n",
    "### c) \n",
    "To escape, the satellite's total mechanical energy must be greater than or equal to zero ($E \\ge 0$).\n",
    "\n",
    "The non-dimensionalised total energy is the sum of kinetic and potential energy:\n",
    "$$\n",
    "E = K + U = \\frac{1}{2}(V_X^2 + V_Y^2) - \\frac{1}{\\sqrt{X^2 + Y^2}}\n",
    "$$\n",
    "\n",
    "We apply the initial conditions $X=2, Y=0, V_X=0$ and solve for the minimum $V_Y$ that satisfies $E \\ge 0$.\n"
   ]
  },
  {
   "cell_type": "code",
   "execution_count": 45,
   "id": "8704ac4e",
   "metadata": {},
   "outputs": [
    {
     "name": "stdout",
     "output_type": "stream",
     "text": [
      "The minimum V_Y for escape velocity is 1.0.\n"
     ]
    }
   ],
   "source": [
    "from sympy import sqrt\n",
    "\n",
    "\n",
    "V_X, V_Y = symbols('V_X V_Y')\n",
    "E = 1/2 * (V_X**2 + V_Y**2) - 1/(sqrt(X**2 + Y**2))\n",
    "# We insert the initial value for V_X = 0\n",
    "E = E.subs({V_X: 0, X: 2, Y: 0})\n",
    "eq = Eq(E, 0)\n",
    "v_solution = solve(eq, V_Y)\n",
    "print(f\"The minimum V_Y for escape velocity is {latex(v_solution[1])}.\")\n"
   ]
  },
  {
   "cell_type": "markdown",
   "id": "91a88c0b",
   "metadata": {},
   "source": [
    "So with the given values we would actually escape."
   ]
  }
 ],
 "metadata": {
  "kernelspec": {
   "display_name": "fysik",
   "language": "python",
   "name": "python3"
  },
  "language_info": {
   "codemirror_mode": {
    "name": "ipython",
    "version": 3
   },
   "file_extension": ".py",
   "mimetype": "text/x-python",
   "name": "python",
   "nbconvert_exporter": "python",
   "pygments_lexer": "ipython3",
   "version": "3.12.11"
  }
 },
 "nbformat": 4,
 "nbformat_minor": 5
}
