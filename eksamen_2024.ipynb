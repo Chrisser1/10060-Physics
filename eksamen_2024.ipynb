{
 "cells": [
  {
   "cell_type": "code",
   "execution_count": 43,
   "metadata": {},
   "outputs": [],
   "source": [
    "from sympy import *\n",
    "import uncertainties as unc\n",
    "import uncertainties.umath as umath\n",
    "from math import radians, degrees"
   ]
  },
  {
   "cell_type": "markdown",
   "metadata": {},
   "source": [
    "# Question 1\n",
    "![image.png](utils/exam-2024/question1.png)"
   ]
  },
  {
   "cell_type": "code",
   "execution_count": 44,
   "metadata": {},
   "outputs": [
    {
     "data": {
      "text/plain": [
       "[(v0 - 1.4142135623731*sqrt(-g*x + g*x0 + 0.5*v0**2))/g,\n",
       " (v0 + 1.4142135623731*sqrt(-g*x + g*x0 + 0.5*v0**2))/g]"
      ]
     },
     "execution_count": 44,
     "metadata": {},
     "output_type": "execute_result"
    }
   ],
   "source": [
    "x, x0, t, v0, g = symbols('x x0 t v0 g', real=True)\n",
    "\n",
    "eq = Eq(x, x0 + v0 * t - 0.5 * g * t**2)\n",
    "t = solve(eq, t)\n",
    "t"
   ]
  },
  {
   "cell_type": "code",
   "execution_count": 45,
   "metadata": {},
   "outputs": [
    {
     "name": "stdout",
     "output_type": "stream",
     "text": [
      "Result =      1.141+/-     0.011\n"
     ]
    }
   ],
   "source": [
    "h = unc.ufloat(1.6,0.05)\n",
    "v0 = unc.ufloat(4.2,0.05)\n",
    "g = unc.ufloat(9.82,0.01)\n",
    "x = 0\n",
    "\n",
    "t = (v0 + 1.4142135623731 * umath.sqrt(-g * x + g * h + 0.5 * v0**2)) / g\n",
    "print('Result = {:10.3f}'.format(t))"
   ]
  },
  {
   "cell_type": "markdown",
   "metadata": {},
   "source": [
    "# Question 2\n",
    "![image.png](utils/exam-2024/question2.png)"
   ]
  },
  {
   "cell_type": "markdown",
   "metadata": {},
   "source": [
    "# Answer\n",
    "This can easialy be calculated using error_components"
   ]
  },
  {
   "cell_type": "code",
   "execution_count": 46,
   "metadata": {},
   "outputs": [
    {
     "data": {
      "text/plain": [
       "{9.82+/-0.01: 0.000929299998388716,\n",
       " 4.2+/-0.05: 0.008144646368065512,\n",
       " 1.6+/-0.05: 0.007138196984381746}"
      ]
     },
     "execution_count": 46,
     "metadata": {},
     "output_type": "execute_result"
    }
   ],
   "source": [
    "t.error_components()"
   ]
  },
  {
   "cell_type": "markdown",
   "metadata": {},
   "source": [
    "# Question 3\n",
    "![image.png](utils/exam-2024/question3.png)"
   ]
  },
  {
   "cell_type": "code",
   "execution_count": 47,
   "metadata": {},
   "outputs": [
    {
     "data": {
      "text/plain": [
       "68.0"
      ]
     },
     "execution_count": 47,
     "metadata": {},
     "output_type": "execute_result"
    }
   ],
   "source": [
    "# Area under the curve\n",
    "10 + 4*4 + 4 * 6 + 1/2 * 6 * 6 # Remember that we start on 10m"
   ]
  },
  {
   "cell_type": "markdown",
   "metadata": {},
   "source": [
    "# Question 4\n",
    "![image.png](utils/exam-2024/question4.png)"
   ]
  },
  {
   "cell_type": "markdown",
   "metadata": {},
   "source": [
    "# Answer\n",
    "when we accelerate forward and backward we do not turn, but at all other points we accelerate away from the original path meaning we are turning. So C, D, E, F is the answer."
   ]
  },
  {
   "cell_type": "markdown",
   "metadata": {},
   "source": [
    "![image.png](utils/exam-2024/question5.png)"
   ]
  },
  {
   "cell_type": "code",
   "execution_count": null,
   "metadata": {},
   "outputs": [
    {
     "name": "stdout",
     "output_type": "stream",
     "text": [
      "Range for v0 = 10 m/s and angle = 40 degrees: 10.03 m\n",
      "Range for v0 = 10 m/s and angle = 50 degrees: 10.03 m\n",
      "Range for v0 = 10 m/s and angle = 60 degrees: 8.82 m\n",
      "Range for v0 = 11 m/s and angle = 40 degrees: 12.13 m\n",
      "Range for v0 = 11 m/s and angle = 50 degrees: 12.13 m\n",
      "Range for v0 = 11 m/s and angle = 60 degrees: 10.67 m\n",
      "Range for v0 = 12 m/s and angle = 40 degrees: 14.44 m\n",
      "Range for v0 = 12 m/s and angle = 50 degrees: 14.44 m\n",
      "Range for v0 = 12 m/s and angle = 60 degrees: 12.70 m\n"
     ]
    }
   ],
   "source": [
    "v0_1 = 10 # m/s\n",
    "v0_2 = 11 # m/s\n",
    "v0_3 = 12 # m/s\n",
    "\n",
    "angle_1 = 40 # degrees\n",
    "angle_2 = 50 # degrees\n",
    "angle_3 = 60 # degrees\n",
    "\n",
    "g = 9.82 # m/s^2\n",
    "\n",
    "# Calculate the range for each case\n",
    "for i in [v0_1, v0_2, v0_3]:\n",
    "    for j in [angle_1, angle_2, angle_3]:\n",
    "        R = (i**2 * sin(2 * radians(j))) / g\n",
    "        print('Range for v0 = {} m/s and angle = {} degrees: {:.2f} m'.format(i, j, R))"
   ]
  },
  {
   "cell_type": "markdown",
   "metadata": {},
   "source": [
    "# Question 6\n",
    "![image.png](utils/exam-2024/question6.png)"
   ]
  },
  {
   "cell_type": "markdown",
   "metadata": {},
   "source": [
    "* A: No\n",
    "* B: Yes\n",
    "* C: No\n",
    "* D: Yes\n",
    "* E: No\n",
    "* F: Yes\n",
    "* G: No\n",
    "* H: Set the force in Newton N to $N = kg\\cdot m \\cdot s^{-2}$ we get $\\sqrt{\\frac{kg\\cdot m}{kg\\cdot m \\cdot s^{-2}}} = \\sqrt{s^2} = s$. So Yes"
   ]
  },
  {
   "cell_type": "markdown",
   "metadata": {},
   "source": [
    "# Question 7\n",
    "![image.png](utils/exam-2024/question7.png)"
   ]
  },
  {
   "cell_type": "markdown",
   "metadata": {},
   "source": [
    "# Answer\n",
    "The answer is B, D and G. We dont include friction so E is not included."
   ]
  },
  {
   "cell_type": "markdown",
   "metadata": {},
   "source": [
    "# Question 8\n",
    "![image.png](utils/exam-2024/question8.png)"
   ]
  },
  {
   "cell_type": "markdown",
   "metadata": {},
   "source": [
    "# Answer\n",
    "1. **Gravity**: Downward force $m_1 g$ from Earth.\n",
    "\n",
    "2. **Normal force**: Upward force from box $m_2$.\n",
    "\n",
    "3. **Frictional force (horizontal)**: This is the key one — since the boxes accelerate together and $m_1$ is not directly pulled, it must experience a **frictional force from $m_2$** to the **right**, to match the acceleration caused by $\\vec{F}$.\n"
   ]
  },
  {
   "cell_type": "markdown",
   "metadata": {},
   "source": [
    "# Question 9\n",
    "![image.png](utils/exam-2024/question9.png)"
   ]
  },
  {
   "cell_type": "markdown",
   "metadata": {},
   "source": [
    "1. **Gravitational force**: Downward $m_2 g$\n",
    "\n",
    "2. **Normal force from $m_3$**: Upward\n",
    "\n",
    "3. **Normal force from $m_1$**: Downward\n",
    "\n",
    "4. **Friction from $m_1$**: To the **left** (since $m_2$ would slide right underneath without it)\n",
    "\n",
    "5. **Friction from $m_3$**: To the **left** (resisting motion relative to bottom box)\n",
    "\n",
    "6. **Applied force $\\vec{F}$**: To the **right**\n"
   ]
  },
  {
   "cell_type": "markdown",
   "metadata": {},
   "source": [
    "# Question 10\n",
    "![image.png](utils/exam-2024/question10.png)"
   ]
  },
  {
   "cell_type": "markdown",
   "metadata": {},
   "source": [
    "1. **Gravitational force**: Downward $m_3 g$\n",
    "\n",
    "2. **Normal force from the ground**: Upward\n",
    "\n",
    "3. **Normal force from $m_2$**: Downward (from supporting the two boxes above)\n",
    "\n",
    "4. **Friction from $m_2$**: To the **right** (since $m_2$ is trying to slide left relative to $m_3$, due to applied force)\n",
    "\n",
    "5. **Friction on $m_3$ from the ground**: To the **left**, opposing the net horizontal force and enabling all three boxes to accelerate together\n"
   ]
  },
  {
   "cell_type": "markdown",
   "metadata": {},
   "source": [
    "# Question 11\n",
    "![image.png](utils/exam-2024/question11.png)"
   ]
  },
  {
   "cell_type": "markdown",
   "metadata": {},
   "source": [
    "# Answer B\n",
    "Lokking at the angle it would be B"
   ]
  },
  {
   "cell_type": "markdown",
   "metadata": {},
   "source": [
    "# Question 12\n",
    "![image.png](utils/exam-2024/question12.png)"
   ]
  },
  {
   "cell_type": "markdown",
   "metadata": {},
   "source": [
    "## Problem Analysis\n",
    "\n",
    "**Given:**  \n",
    "- Briefly summarize the key information from the question (masses, forces, diagrams, etc.)\n",
    "\n",
    "**Asked:**  \n",
    "- Clearly state what the question is asking for (e.g., number of forces, graph shape, value of acceleration, etc.)\n",
    "\n",
    "---\n",
    "\n",
    "## Diagram (if applicable)\n",
    "\n",
    "Include a diagram if possible, or describe it.  \n",
    "If working digitally, you can embed an image:\n",
    "\n",
    "---\n",
    "\n",
    "## Relevant Concepts & Equations\n",
    "\n",
    "- List any physical laws, principles, or formulas that apply:\n",
    "  - Newton’s laws\n",
    "  - Kinematic equations\n",
    "  - Energy conservation\n",
    "  - Torque: $\\tau = I \\alpha$\n",
    "  - No-slip condition: $v = r\\omega$\n",
    "\n",
    "---\n",
    "\n",
    "## Step-by-Step Solution\n",
    "\n",
    "1. **Identify forces/quantities involved:**\n",
    "   - E.g., gravity, tension, normal force, friction\n",
    "\n",
    "2. **Apply equations:**\n",
    "   - Use FBDs (Free-Body Diagrams) or formulas like:\n",
    "     $$\n",
    "     F = ma, \\quad v^2 = v_0^2 + 2a y, \\quad \\omega = \\frac{v}{r}\n",
    "     $$\n",
    "\n",
    "3. **Algebraic simplification:**\n",
    "   - Derive relationships like $\\omega \\propto \\sqrt{y}$\n",
    "\n",
    "4. **Graph behavior (if asked):**\n",
    "   - Analyze trends: linear, quadratic, root, asymptotic, etc.\n",
    "\n",
    "---\n",
    "\n",
    "In this case the correct answer is C) as it follows a $\\sqrt{y}$"
   ]
  },
  {
   "cell_type": "markdown",
   "metadata": {},
   "source": [
    "# Question 13\n",
    "![image.png](utils/exam-2024/question13.png)"
   ]
  },
  {
   "cell_type": "markdown",
   "metadata": {},
   "source": [
    "### 1. **Conservation of Angular Momentum**\n",
    "- There's **no external torque**, so **total angular momentum is conserved**:\n",
    "  $$\n",
    "  L_{\\text{initial}} = L_{\\text{final}}\n",
    "  $$\n",
    "\n",
    "- Before: only $I_1$ is spinning.\n",
    "- After: both $I_1$ and $I_2$ spin with $\\omega_2$.\n",
    "- L is defined as $L = I\\omega$\n",
    "$$\n",
    "I_1 \\omega_1 = (I_1 + I_2)\\omega_2\n",
    "$$\n",
    "\n",
    "### 2. **Solve for $I_2$**\n",
    "\n",
    "- You know:\n",
    "  $$\n",
    "  \\omega_2 = \\frac{3}{5} \\omega_1\n",
    "  $$\n",
    "\n",
    "- Substitute and solve for $I_2$."
   ]
  },
  {
   "cell_type": "code",
   "execution_count": null,
   "metadata": {},
   "outputs": [
    {
     "data": {
      "text/latex": [
       "$\\displaystyle \\frac{2 I_{1}}{3}$"
      ],
      "text/plain": [
       "2*I1/3"
      ]
     },
     "execution_count": 62,
     "metadata": {},
     "output_type": "execute_result"
    }
   ],
   "source": [
    "I1, I2, omega1 = symbols('I1 I2 omega1', real=True)\n",
    "# Rational makes sure that 3/5 is not evaluated to a float\n",
    "omega2 = Rational(3,5) * omega1\n",
    "eq1 = Eq(I1 * omega1, (I1 + I2) * omega2)\n",
    "sol = solve(eq1, I2)\n",
    "simplify(sol[0])"
   ]
  },
  {
   "cell_type": "markdown",
   "metadata": {},
   "source": [
    "# Question 14\n",
    "![image.png](utils/exam-2024/question14.png)"
   ]
  },
  {
   "cell_type": "markdown",
   "metadata": {},
   "source": [
    "## Problem Breakdown\n",
    "\n",
    "**Given:**\n",
    "- Mass $m = 50 \\, \\text{kg}$\n",
    "- Radius $R = 1.0 \\, \\text{m}$\n",
    "- Speed $v = 100 \\, \\text{m/s}$\n",
    "- Max stress $\\sigma_{\\text{max}} = 1600 \\, \\text{MPa} = 1.6 \\times 10^9 \\, \\text{Pa}$\n",
    "- Stress formula: $\\sigma = \\frac{F}{A}$\n",
    "- Area of circular cross-section: $A = \\frac{\\pi d^2}{4}$\n",
    "- Find: Minimum diameter $d$ that prevents failure\n",
    "\n",
    "---\n",
    "\n",
    "## Relevant Physics\n",
    "\n",
    "### 1. **Centripetal Force**\n",
    "$$\n",
    "F = \\frac{mv^2}{R}\n",
    "$$\n",
    "\n",
    "### 2. **Stress Limit**\n",
    "$$\n",
    "\\sigma = \\frac{F}{A} = \\frac{F}{\\frac{\\pi d^2}{4}} \\Rightarrow d^2 = \\frac{4F}{\\pi \\sigma}\n",
    "\\Rightarrow d = \\sqrt{\\frac{4F}{\\pi \\sigma}}\n",
    "$$\n",
    "\n",
    "---\n",
    "\n",
    "## Step-by-Step Plan\n",
    "\n",
    "1. Compute the required centripetal force using $F = \\frac{mv^2}{R}$\n",
    "2. Plug $F$ and $\\sigma_{\\text{max}}$ into the stress formula\n",
    "3. Solve for $d$\n",
    "4. Convert $d$ to mm or cm as needed\n",
    "5. Compare with multiple choice options\n",
    "\n",
    "---\n",
    "\n"
   ]
  },
  {
   "cell_type": "code",
   "execution_count": 76,
   "metadata": {},
   "outputs": [
    {
     "name": "stdout",
     "output_type": "stream",
     "text": [
      "Diameter of the cross section: 0.02 m\n",
      "Diameter of the cross section: 1.99 cm\n",
      "Diameter of the cross section: 19.95 mm\n"
     ]
    }
   ],
   "source": [
    "m = 50 # kg\n",
    "R = 1 # m\n",
    "v = 100 # m/s\n",
    "theta_max = 1600 # MPa\n",
    "theta_max = theta_max * 1e6 # Convert MPa to Pa\n",
    "\n",
    "d = symbols('d', real=True) # Diameter of the cross section\n",
    "\n",
    "F = m * v**2 / R\n",
    "A = pi * d**2 / 4 # Area of the cross section, d is diameter\n",
    "eq = Eq(theta_max, F / A)\n",
    "sol = solve(eq, d)\n",
    "d_val = [r.evalf() for r in sol if r.evalf() > 0][0]\n",
    "print('Diameter of the cross section: {:.2f} m'.format(d_val))\n",
    "print('Diameter of the cross section: {:.2f} cm'.format(d_val * 100))\n",
    "print('Diameter of the cross section: {:.2f} mm'.format(d_val * 1000))"
   ]
  }
 ],
 "metadata": {
  "kernelspec": {
   "display_name": "Python 3",
   "language": "python",
   "name": "python3"
  },
  "language_info": {
   "codemirror_mode": {
    "name": "ipython",
    "version": 3
   },
   "file_extension": ".py",
   "mimetype": "text/x-python",
   "name": "python",
   "nbconvert_exporter": "python",
   "pygments_lexer": "ipython3",
   "version": "3.11.10"
  }
 },
 "nbformat": 4,
 "nbformat_minor": 5
}
