{
 "cells": [
  {
   "cell_type": "markdown",
   "metadata": {},
   "source": [
    "#### Problem 1\n",
    "\n",
    "Two independent measurements, of two different pieces of wood, gives the results\n",
    "$x=95.8\\pm 0.1$ cm\n",
    "and\n",
    "$y=2.30\\pm 0.02$ cm.\n",
    "\n",
    ">a) Determine the diffence in length, $l=x-y$.\n",
    "\n",
    ">b) Determine the relative uncertainty in the difference in length, $l$.\n",
    "\n",
    "<details> <summary>Hint a) click here</summary> Do you add uncertaintites or add them in quadrature? </details>"
   ]
  },
  {
   "cell_type": "markdown",
   "id": "8b2fbea5",
   "metadata": {},
   "source": [
    "#### Answer\n",
    "**a**\n",
    "\n",
    "We will use the uncertainties libary to calculate l"
   ]
  },
  {
   "cell_type": "code",
   "execution_count": 7,
   "metadata": {},
   "outputs": [
    {
     "name": "stdout",
     "output_type": "stream",
     "text": [
      "93.50+/-0.10\n"
     ]
    }
   ],
   "source": [
    "from uncertainties import *\n",
    "import sympy as sp\n",
    "x = ufloat(95.8, 0.1)\n",
    "y = ufloat(2.3, 0.02)\n",
    "\n",
    "l = x - y\n",
    "print(l)"
   ]
  },
  {
   "cell_type": "markdown",
   "id": "43a74f9c",
   "metadata": {},
   "source": [
    "**b**\n",
    "\n",
    "We use the formula:\n",
    "\n",
    ">$\\delta y=\\sqrt{\\delta x_0^2+\\delta x_1^2+\\ldots+\\delta x_{N-1}^2}$"
   ]
  },
  {
   "cell_type": "code",
   "execution_count": 12,
   "id": "de7ce2c6",
   "metadata": {},
   "outputs": [
    {
     "name": "stdout",
     "output_type": "stream",
     "text": [
      "0.101980390271856\n"
     ]
    }
   ],
   "source": [
    "relative_uncertainty = sp.sqrt(x.s**2 + y.s**2)\n",
    "print(relative_uncertainty)"
   ]
  },
  {
   "cell_type": "markdown",
   "metadata": {},
   "source": [
    "#### Problem 2\n",
    "\n",
    "To determine the velocity of a cart on an air track we measure the distance travelled, $d$, and the time interval, $t$.\n",
    "The measurement values are $d=5.10\\pm 0.01$ m, and $t=6.02\\pm 0.02$ s.\n",
    "\n",
    ">a) Determine the velocity of the cart.\n",
    "\n",
    ">b) Determine the momentum, $p=m\\cdot v$, for the cart which has mass $0.711\\pm 0.002$ kg.\n",
    "\n",
    "<details> <summary>Hint a) click here</summary> Do you consider absolute or relative uncertainties here? </details>"
   ]
  },
  {
   "cell_type": "code",
   "execution_count": null,
   "metadata": {},
   "outputs": [],
   "source": []
  },
  {
   "cell_type": "markdown",
   "metadata": {},
   "source": [
    "#### Problem 3\n",
    "\n",
    "A projectile motion starts with initial speed, $v_0=15.3\\pm 0.1 \\text{m/s}$, and initial angle, $30\\pm 1 \\degree$.\n",
    "Assume that the acceleration of gravity, $g=9.82 \\text{m/s}^2$, has no uncertainty.\n",
    "\n",
    "> a) What is the range of the projectile?\n",
    "\n",
    "> b) What is the range if the uncertainty in the initial speed is $0.2 \\text{m/s}$?\n",
    "\n",
    "> c) What is the relative contribution from uncertainties in initial speed and initial angle to the uncertainty in the range of the projectile?\n",
    "\n",
    "<details> <summary>Hint a) click here</summary> Is there a formula for the range of a projectile? </details>\n",
    "<details> <summary>Hint b) click here</summary> Can you make a small change without having to redo the calculations form a)? </details>\n",
    "<details> <summary>Hint c) click here</summary> ufloat have a method error_components() which may be useful </details>"
   ]
  },
  {
   "cell_type": "code",
   "execution_count": null,
   "metadata": {},
   "outputs": [],
   "source": []
  },
  {
   "cell_type": "markdown",
   "metadata": {},
   "source": [
    "#### Problem 4\n",
    "\n",
    "A car travels in a circular path with radius $R=45\\pm 1$ m. \n",
    "The car starts from rest, and moves with a tangential acceleration, $a_\\text{tan}=0.23\\pm 0.01 \\text{m/s}^2$.\n",
    "\n",
    ">a) Determine the magnitude of the acceleration of the car at time $t=10.0\\pm 0.5$ s.\n",
    "\n",
    ">b) Which quantity has the largest contribution to the uncertainty in the acceleration?\n",
    "\n",
    ">c) Does any quantity have no contribution to the uncertainty in the acceleration? Hint: Consider the properly rounded result.\n",
    "\n",
    "<details> <summary>Hint a) click here</summary> Remember that the acceleration in circular motion has two different components; there are formulas for both. </details>\n",
    "<details> <summary>Formula hint a) click here</summary> a(rad) = v**2/R, a(tan)=d|v|/dt </details>\n",
    "<details> <summary>Hint b+c) click here</summary> You can use the method error_components(). You may wish to label your ufloats, i.e. ufloat(2.0,0.1,'x').  </details>"
   ]
  },
  {
   "cell_type": "code",
   "execution_count": null,
   "metadata": {},
   "outputs": [],
   "source": []
  },
  {
   "cell_type": "markdown",
   "metadata": {},
   "source": [
    "#### Problem 5\n",
    "\n",
    "A box slides down an inclined plane. The inclined plane makes an angle of $\\theta=30\\pm 1 \\degree$ with horizontal.\n",
    "The coefficient of friction between the box and the inclined plane is $\\mu_\\text{k}=0.22\\pm 0.01$.\n",
    "Assume that the acceleration of gravity, $g=9.82 \\text{m/s}^2$ is exact.\n",
    "\n",
    "\n",
    ">a) Determine the acceleration of the box.\n",
    "\n",
    "<details> <summary> Formula hint a) click here</summary> a = g * (sin(theta) - mu * cos(theta)) </details>"
   ]
  },
  {
   "cell_type": "code",
   "execution_count": null,
   "metadata": {},
   "outputs": [],
   "source": []
  },
  {
   "cell_type": "markdown",
   "metadata": {},
   "source": [
    "#### Problem 6\n",
    "\n",
    "A free fall experiment with a basket ball is used to determine the value of the acceleration of gravity. The determined values for each experiment is found below in the array *g_values*.\n",
    "\n",
    ">a) Determine the value of $g$ with uncertainty?\n",
    "\n",
    ">b) Compare the found value of $g$ with uncertainty to the accepted value of $g=9.82 \\text{ m/s}^2$\n",
    "\n",
    ">c) Determine the speed (including uncertainty) of the basket ball if it is dropped a height $1.00\\pm 0.02$ m, and you use the largest value from the experiment with uncertainty.\n",
    "\n",
    "<details> <summary>Hint a) click here</summary> Remember to use the mean and the standard deviation of the mean. </details>\n",
    "<details> <summary>Hint b) click here</summary> The ufloat method standard_score(value) could be used here. </details>\n",
    "<details> <summary>Hint c) click here</summary> Remember to use the standard deviation as uncertainty, not the standard deviation of the mean. </details>"
   ]
  },
  {
   "cell_type": "code",
   "execution_count": 9,
   "metadata": {},
   "outputs": [],
   "source": [
    "import numpy as np\n",
    "import uncertainties as unc\n",
    "g_values = np.array([9.71,9.84,9.81,9.73,9.68,9.74])"
   ]
  },
  {
   "cell_type": "markdown",
   "metadata": {},
   "source": [
    "#### Problem 7\n",
    "\n",
    "The mechanical energy of a system consisting of a spring and a mass is given by\n",
    "\n",
    "$E=\\frac{1}{2}mv^2+\\frac{1}{2}kx^2$.\n",
    "\n",
    "Assume that all quanties have uncertainties: $m\\pm\\delta m$, $v\\pm\\delta v$, $k\\pm\\delta k$, and $x\\pm\\delta x$.\n",
    "\n",
    ">a) Derive a general formula for the uncertainty in the mechanical energy, $\\delta E$.\n",
    "\n",
    ">b) Determine the mechanical energy with uncertainty when $m=0.20\\pm 0.01$ kg, $v=5.24\\pm 0.02$ m/s, $k=30.0\\pm\\ 0.5$ N/m, and $x=0.231\\pm 0.005$ m.\n",
    "\n",
    "<details> <summary>Hint a) click here</summary> Use the formula for error propagation. First create a sympy variable with the expression for the energy. </details>\n",
    "<details> <summary>Hint b) click here</summary> You may use the method subs({variable:value}). </details>"
   ]
  }
 ],
 "metadata": {
  "kernelspec": {
   "display_name": "Python 3",
   "language": "python",
   "name": "python3"
  },
  "language_info": {
   "codemirror_mode": {
    "name": "ipython",
    "version": 3
   },
   "file_extension": ".py",
   "mimetype": "text/x-python",
   "name": "python",
   "nbconvert_exporter": "python",
   "pygments_lexer": "ipython3",
   "version": "3.11.10"
  }
 },
 "nbformat": 4,
 "nbformat_minor": 5
}
