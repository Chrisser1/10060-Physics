{
 "cells": [
  {
   "cell_type": "code",
   "execution_count": 3,
   "metadata": {},
   "outputs": [],
   "source": [
    "from sympy import *\n",
    "init_printing()"
   ]
  },
  {
   "cell_type": "markdown",
   "metadata": {},
   "source": [
    "# Problem 1\n",
    "A) is not possible as she ends with some kinetisk energy, which implies she is still moving\n",
    "\n",
    "B) implies that the total energy is larger, which is not possible\n",
    "\n",
    "C) is the correct one\n",
    "\n",
    "D) implies that she started with negative kinetic energy (moving backwards)"
   ]
  },
  {
   "cell_type": "markdown",
   "metadata": {},
   "source": [
    "# Problem 2\n",
    "## a)\n",
    "For at udregne dette kan vi bruge ligningen\n",
    "$$\n",
    "\\frac{1}{2}mv_1^2 + mgy_1+\\frac{1}{2}kx^2_1=\\frac{1}{2}mv_2^2 + mgy_2+\\frac{1}{2}kx^2_2\n",
    "$$\n",
    "\n",
    "hvis vi omskriver den til problemet får vi\n",
    "$$\n",
    "\\frac{1}{2}mv_3^2 + mgh_3 = \\frac{1}{2}mv_4^2 + mgh_4\n",
    "$$\n",
    "\n",
    "ved 3 kan vi insætte vores x axe og sige højden er lig 0, ved hastigheden $v_4$ kan vi sige at den er lig 0 og højden er lig $h$"
   ]
  },
  {
   "cell_type": "code",
   "execution_count": null,
   "metadata": {},
   "outputs": [
    {
     "data": {
      "image/png": "[encoded data removed]",
      "text/latex": [
       "$\\displaystyle - 1.4142135623731 \\sqrt{g h_{4}}$"
      ],
      "text/plain": [
       "                   ______\n",
       "-1.4142135623731⋅╲╱ g⋅h₄ "
      ]
     },
     "execution_count": 10,
     "metadata": {},
     "output_type": "execute_result"
    }
   ],
   "source": [
    "# Define symbols\n",
    "h_4, m, v_3, g = symbols('h_4 m v_3 g')\n",
    "v_4 = 0\n",
    "h_3 = 0\n",
    "\n",
    "# Write the energy conservation equation from (3) to (4)\n",
    "eq = Eq(1/2 * m * v_3**2 + m * g * h_3, 1/2 * m * v_4**2 + m * g * h_4)\n",
    "\n",
    "# Substitute known values: v_4 = 0 and h_3 = 0\n",
    "eq = eq.subs({v_4: 0, h_3: 0})\n",
    "\n",
    "# Solve for v_3\n",
    "solution = solve(eq, v_3)\n",
    "solution"
   ]
  },
  {
   "cell_type": "markdown",
   "metadata": {},
   "source": [
    "vi får altså\n",
    "$$\n",
    "v_3 = \\pm \\sqrt{2gh_4}\n",
    "$$"
   ]
  },
  {
   "cell_type": "markdown",
   "metadata": {},
   "source": [
    "## b)\n",
    "For at løse dette vil vi bruge den udvidet energi sætning\n",
    "$$\n",
    "K_1 + U_1 + W_{andre} = K_2 + U_2\n",
    "$$\n",
    "i vores tilfælde\n",
    "$$\n",
    "K_1 + U_1 + W_{friktion} = K_2 + U_2\n",
    "$$\n",
    "Vi har at energien ved (1) er $E_1 = mgH$ og ved (4) $E_4 = mgh$, så vi kan sige at energitabet er grundet friktionen. Den er den eneste ikke konservative kraft. Derfor har vi\n",
    "$$\n",
    "W_{friktion} = \\Delta E = E_1 - E_2 = mgh - mgH = mg(h-H)\n",
    "$$\n",
    "Svaret er altså C)\n",
    "\n"
   ]
  },
  {
   "cell_type": "markdown",
   "metadata": {},
   "source": [
    "# Problem 3\n",
    "For at udregne dette kan vi bruge ligningen\n",
    "$$\n",
    "y = \\frac{1}{2}gt^2\n",
    "$$\n"
   ]
  },
  {
   "cell_type": "markdown",
   "metadata": {},
   "source": [
    "I vores tilfælde har vi at:\n",
    "\n",
    "* $v_1 = 10 m/s$\n",
    "* $\\Delta y = 3$\n",
    "* $g = 9.8$"
   ]
  },
  {
   "cell_type": "code",
   "execution_count": 16,
   "metadata": {},
   "outputs": [
    {
     "data": {
      "image/png": "[encoded data removed]",
      "text/latex": [
       "$\\displaystyle 0.782460796435952$"
      ],
      "text/plain": [
       "0.782460796435952"
      ]
     },
     "execution_count": 16,
     "metadata": {},
     "output_type": "execute_result"
    }
   ],
   "source": [
    "g = 9.8 # m/s^2\n",
    "v_1 = 10 # m/s\n",
    "delta_y = 3 # m\n",
    "t = sqrt(2 * delta_y / g) # time to fall\n",
    "t"
   ]
  },
  {
   "cell_type": "markdown",
   "metadata": {},
   "source": [
    "Vi kender nu tiden og kan bruge formlen fra opgave 1 til at finde v_2 ved hoppet"
   ]
  },
  {
   "cell_type": "code",
   "execution_count": null,
   "metadata": {},
   "outputs": [
    {
     "data": {
      "image/png": "[encoded data removed]",
      "text/latex": [
       "$\\displaystyle \\left[ -6.41872261435249, \\  6.41872261435249\\right]$"
      ],
      "text/plain": [
       "[-6.41872261435249, 6.41872261435249]"
      ]
     },
     "execution_count": 18,
     "metadata": {},
     "output_type": "execute_result"
    }
   ],
   "source": [
    "# Define symbols\n",
    "m, v_2 = symbols('m v_2')\n",
    "v_1 = 10\n",
    "h_2 = 3\n",
    "h_1 = 0\n",
    "\n",
    "# Write the energy conservation equation from (3) to (4)\n",
    "eq = Eq(1/2 * m * v_1**2 + m * g * h_1, 1/2 * m * v_2**2 + m * g * h_2)\n",
    "\n",
    "# Substitute known values: v_1 = 0 and h_2 = 0\n",
    "eq = eq.subs({v_1: 0, h_2: 0})\n",
    "\n",
    "# Solve for v_2\n",
    "solution = solve(eq, v_2)\n",
    "solution"
   ]
  },
  {
   "cell_type": "code",
   "execution_count": 20,
   "metadata": {},
   "outputs": [
    {
     "data": {
      "image/png": "[encoded data removed]",
      "text/latex": [
       "$\\displaystyle 5.0223988089277$"
      ],
      "text/plain": [
       "5.02239880892770"
      ]
     },
     "execution_count": 20,
     "metadata": {},
     "output_type": "execute_result"
    }
   ],
   "source": [
    "x = solution[1] * t\n",
    "x"
   ]
  },
  {
   "cell_type": "markdown",
   "metadata": {},
   "source": [
    "Svaret må altså være A)"
   ]
  },
  {
   "cell_type": "markdown",
   "metadata": {},
   "source": [
    "# Problem 4\n",
    "## a)\n",
    "![image.png](../../utils/images/energy-conversation-4.png)"
   ]
  },
  {
   "cell_type": "markdown",
   "metadata": {},
   "source": [
    "## b)\n",
    "Vi bruger nu formlen\n",
    "$$\n",
    "\\frac{1}{2}mv_1^2 + mgy_1+\\frac{1}{2}kx^2_1=\\frac{1}{2}mv_2^2 + mgy_2+\\frac{1}{2}kx^2_2\n",
    "$$\n",
    "i vores tilfælde kan vi sige, at \n",
    "* højden er $R(1-cos(\\theta)$\n",
    "Vi ved at den totale energi er bevaret, så\n",
    "$$\n",
    "E_{initial} = mgR\n",
    "$$\n",
    "$$\n",
    "E = \\frac{1}{2}mv^2 + mg(R(1-cos(\\theta))\n",
    "$$\n",
    "vi kan nu løse dette"
   ]
  },
  {
   "cell_type": "code",
   "execution_count": 27,
   "metadata": {},
   "outputs": [
    {
     "data": {
      "image/png": "[encoded data removed]",
      "text/latex": [
       "$\\displaystyle - 1.4142135623731 \\sqrt{R g \\left(\\cos{\\left(\\theta \\right)} + 1.0\\right)}$"
      ],
      "text/plain": [
       "                   ____________________\n",
       "-1.4142135623731⋅╲╱ R⋅g⋅(cos(θ) + 1.0) "
      ]
     },
     "execution_count": 27,
     "metadata": {},
     "output_type": "execute_result"
    }
   ],
   "source": [
    "R, m, v, g, theta = symbols('R m v g theta')\n",
    "\n",
    "eq = Eq(m*g*2*R, 1/2*m*v**2 + m * g * (R*(1 - cos(theta))))\n",
    "solve(eq, v)[0]"
   ]
  },
  {
   "cell_type": "markdown",
   "metadata": {},
   "source": [
    "vi har nu\n",
    "$$\n",
    "v = \\sqrt{2gR(\\cos{\\theta}+1)}\n",
    "$$"
   ]
  },
  {
   "cell_type": "markdown",
   "metadata": {},
   "source": [
    "## b)\n",
    "Vi ved at når blokkens normalkraft er lig 0, så mister vi kontakt. Fra newtons anden lov får vi\n",
    "$$\n",
    "N + (-mg*\\cos{\\theta}= \\frac{mv^2}{R})\n",
    "$$\n",
    "Vi kan nu sætte $N = 0$"
   ]
  },
  {
   "cell_type": "code",
   "execution_count": null,
   "metadata": {},
   "outputs": [
    {
     "data": {
      "image/png": "[encoded data removed]",
      "text/latex": [
       "$\\displaystyle - \\sqrt{- R g \\cos{\\left(\\theta \\right)}}$"
      ],
      "text/plain": [
       "   _____________\n",
       "-╲╱ -R⋅g⋅cos(θ) "
      ]
     },
     "execution_count": 25,
     "metadata": {},
     "output_type": "execute_result"
    }
   ],
   "source": []
  },
  {
   "cell_type": "markdown",
   "metadata": {},
   "source": []
  }
 ],
 "metadata": {
  "kernelspec": {
   "display_name": "Python 3",
   "language": "python",
   "name": "python3"
  },
  "language_info": {
   "codemirror_mode": {
    "name": "ipython",
    "version": 3
   },
   "file_extension": ".py",
   "mimetype": "text/x-python",
   "name": "python",
   "nbconvert_exporter": "python",
   "pygments_lexer": "ipython3",
   "version": "3.11.10"
  }
 },
 "nbformat": 4,
 "nbformat_minor": 2
}
