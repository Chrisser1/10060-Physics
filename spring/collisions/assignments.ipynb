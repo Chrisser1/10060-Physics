{
 "cells": [
  {
   "cell_type": "code",
   "execution_count": 1,
   "id": "153aff73",
   "metadata": {},
   "outputs": [],
   "source": [
    "from sympy import *\n",
    "init_printing()"
   ]
  },
  {
   "cell_type": "markdown",
   "id": "9a16aacb",
   "metadata": {},
   "source": [
    "# Problem 1"
   ]
  },
  {
   "cell_type": "code",
   "execution_count": 10,
   "id": "7908d00f",
   "metadata": {},
   "outputs": [],
   "source": [
    "# a)\n",
    "M, m, v_1, v_2 = symbols('M m v_1 v_2')\n",
    "\n",
    "# Conservation of momentum\n",
    "p1 = m*v_1\n",
    "p2 = (M+m)*v_2\n",
    "\n",
    "v_2 = solve(p1 - p2, v_2)[0]"
   ]
  },
  {
   "cell_type": "code",
   "execution_count": null,
   "id": "f5b6191d",
   "metadata": {},
   "outputs": [
    {
     "data": {
      "image/png": "[encoded data removed]",
      "text/latex": [
       "$\\displaystyle \\frac{0.5 m^{2} v_{1}^{2}}{g \\left(M + m\\right)^{2}}$"
      ],
      "text/plain": [
       "     2   2\n",
       "0.5⋅m ⋅v₁ \n",
       "──────────\n",
       "         2\n",
       "g⋅(M + m) "
      ]
     },
     "execution_count": 13,
     "metadata": {},
     "output_type": "execute_result"
    }
   ],
   "source": [
    "# b)\n",
    "# Define symbols\n",
    "g, h = symbols('g h')\n",
    "\n",
    "# Energy conservation: (1/2)*v2^2 = g*h\n",
    "# Initial Kinetic Energy = Final Potential Energy\n",
    "energy_eq = (1/2)*(M+m)*v_2**2 - (M+m)*g*h\n",
    "\n",
    "# Solve for h\n",
    "h_solution = solve(energy_eq, h)[0]\n",
    "h_solution\n"
   ]
  },
  {
   "cell_type": "markdown",
   "id": "79f02e2d",
   "metadata": {},
   "source": [
    "# Problem 2"
   ]
  },
  {
   "cell_type": "code",
   "execution_count": 7,
   "id": "acd7ac8d",
   "metadata": {},
   "outputs": [],
   "source": [
    "m = 10 # kg\n",
    "t = 0 # s\n",
    "v_0 = 10 # m/s"
   ]
  },
  {
   "cell_type": "markdown",
   "id": "7150bd5d",
   "metadata": {},
   "source": [
    "We know that $F = ma$\n",
    "and that the change in velocity is given by the equation:\n",
    "$$\n",
    "\\Delta v = \\int a(t) dt\n",
    "$$\n"
   ]
  },
  {
   "cell_type": "markdown",
   "id": "8de4887c",
   "metadata": {},
   "source": [
    "If we look closely, then the area under the graph is gives impulse\n",
    "$$\n",
    "J = \\Delta p = m \\Delta v\n",
    "$$\n",
    "therefore\n",
    "$$\n",
    "\\Delta v = \\frac{J}{m}\n",
    "$$"
   ]
  },
  {
   "cell_type": "markdown",
   "id": "4955deb5",
   "metadata": {},
   "source": [
    "We can then just calculate the area under the graph from 0 to 10"
   ]
  },
  {
   "cell_type": "code",
   "execution_count": 9,
   "id": "fa094724",
   "metadata": {},
   "outputs": [
    {
     "data": {
      "image/png": "[encoded data removed]",
      "text/latex": [
       "$\\displaystyle 17.5$"
      ],
      "text/plain": [
       "17.5"
      ]
     },
     "execution_count": 9,
     "metadata": {},
     "output_type": "execute_result"
    }
   ],
   "source": [
    "Area1 = 10 * 5\n",
    "Area2 = 10 * 5 / 2\n",
    "\n",
    "# The total impulse is then\n",
    "J = Area1 + Area2\n",
    "\n",
    "# The velocity mist then be\n",
    "delta_v = J / m\n",
    "v_final = v_0 + delta_v\n",
    "v_final"
   ]
  },
  {
   "cell_type": "markdown",
   "id": "125e9784",
   "metadata": {},
   "source": [
    "The answer is **D**."
   ]
  },
  {
   "cell_type": "markdown",
   "id": "28329354",
   "metadata": {},
   "source": [
    "# Problem 3"
   ]
  },
  {
   "cell_type": "markdown",
   "id": "3ec1e94d",
   "metadata": {},
   "source": [
    "**A)** True\n",
    "**B)** False\n",
    "**C)** False\n",
    "**D)** False\n",
    "**E)** True\n",
    "**F)** False\n",
    "**G)** False"
   ]
  },
  {
   "cell_type": "code",
   "execution_count": null,
   "id": "8f26cf1f",
   "metadata": {},
   "outputs": [],
   "source": []
  }
 ],
 "metadata": {
  "kernelspec": {
   "display_name": "Python 3",
   "language": "python",
   "name": "python3"
  },
  "language_info": {
   "codemirror_mode": {
    "name": "ipython",
    "version": 3
   },
   "file_extension": ".py",
   "mimetype": "text/x-python",
   "name": "python",
   "nbconvert_exporter": "python",
   "pygments_lexer": "ipython3",
   "version": "3.11.10"
  }
 },
 "nbformat": 4,
 "nbformat_minor": 5
}
