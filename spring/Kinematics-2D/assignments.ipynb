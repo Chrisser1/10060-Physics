{
 "cells": [
  {
   "cell_type": "code",
   "execution_count": 2,
   "metadata": {},
   "outputs": [],
   "source": [
    "from sympy import *"
   ]
  },
  {
   "cell_type": "markdown",
   "metadata": {},
   "source": [
    "# Chapter 4 - Problems\n",
    "## Problem 1.\n",
    "![image.png](../../utils/kinematics-assignments-images/problem-1-2.png)"
   ]
  },
  {
   "cell_type": "markdown",
   "metadata": {},
   "source": [
    "### Answer\n",
    "The first point is where the ball moves the quickes, then it is slowest in point two and in the third point it is quicker again. So the answer is E."
   ]
  },
  {
   "cell_type": "markdown",
   "metadata": {},
   "source": [
    "## Problem 2\n",
    "![image.png](../../utils/kinematics-assignments-images/problem-2-2.png)"
   ]
  },
  {
   "cell_type": "markdown",
   "metadata": {},
   "source": [
    "### Answer\n",
    "We know that the ball undergoes protejctile motion after being kicked horizontally. \n",
    "The given staircase consists of square steps with side length $d$, meaning the ball falls a vertical distance $d$ while traveling a horizontal distance $d$.\n",
    "\n",
    "The vertical motion can then be explained by a displacemnet $y = d$, and the motion is governed by free fall:\n",
    "$$\n",
    "y = \\frac{1}{2}g \\cdot t^2\n",
    "$$\n",
    "when we substitute $y = 3d$ we get:\n",
    "$$\n",
    "3d = \\frac{1}{2}g \\cdot t^2\n",
    "$$\n",
    "we can now solve for t, which gives us\n",
    "$$\n",
    "t = \\sqrt{\\frac{6d}{g}}\n",
    "$$\n",
    "The horizontal displacement $x=3d$ and horizontal velocity is $v$, so:\n",
    "$$\n",
    "x = v \\cdot t\n",
    "$$\n",
    "substituting for $x=3d$ and t\n",
    "$$\n",
    "3d = v \\cdot \\sqrt{\\frac{6d}{g}}\n",
    "$$\n",
    "We can now solve for v\n",
    "$$\n",
    "v = \\frac{3d}{\\sqrt{\\frac{6d}{g}}} = 3d\\sqrt{\\frac{g}{6d}}\n",
    "$$\n",
    "Write the square root as\n",
    "$$\n",
    "\\sqrt{\\frac{g}{6d}} = \\frac{\\sqrt{g}}{\\sqrt{6d}}\n",
    "$$\n",
    "we now have\n",
    "$$\n",
    "v = \\frac{3d\\sqrt{g}}{\\sqrt{6d}}\n",
    "$$\n",
    "Notice that $3d=\\sqrt{9d^2}$, so\n",
    "$$\n",
    "v = \\frac{\\sqrt{9d^2g}}{\\sqrt{6d}} = \\sqrt{\\frac{9dg}{6}} = \\sqrt{\\frac{3dg}{2}} = \\frac{\\sqrt{3dg}}{\\sqrt{2}} \n",
    "$$"
   ]
  },
  {
   "cell_type": "markdown",
   "metadata": {},
   "source": [
    "## Problem 3\n",
    "![image.png](../../utils/kinematics-assignments-images/problem-3-2.png)"
   ]
  },
  {
   "cell_type": "markdown",
   "metadata": {},
   "source": [
    "### Answer\n",
    "From circular motion, centripetal acceleration is given by:\n",
    "$$\n",
    "a_{rad} = \\frac{v^2}{R}\n",
    "$$\n",
    "The velocity of a point at the equator due to Earth's rotation:\n",
    "$$\n",
    "v = \\frac{2 \\pi R}{T}\n",
    "$$"
   ]
  },
  {
   "cell_type": "code",
   "execution_count": 13,
   "metadata": {},
   "outputs": [
    {
     "data": {
      "text/plain": [
       "0.03368772507016205"
      ]
     },
     "execution_count": 13,
     "metadata": {},
     "output_type": "execute_result"
    }
   ],
   "source": [
    "import math\n",
    "\n",
    "# Given values\n",
    "R = 6.37e6  # Radius of Earth in meters\n",
    "T = 86400  # Rotation period in seconds\n",
    "\n",
    "# Compute velocity at the equator\n",
    "v = (2 * math.pi * R) / T\n",
    "\n",
    "# Compute centripetal acceleration\n",
    "a_rad = v**2 / R\n",
    "\n",
    "a_rad # m/s^2"
   ]
  },
  {
   "cell_type": "markdown",
   "metadata": {},
   "source": [
    "A person at the equator becomes weightless when the centripetal acceleration equals the gravitational acceleration:\n",
    "$$\n",
    "a_{rad} = g\n",
    "$$\n",
    "From the equation:\n",
    "$$\n",
    "\\frac{4 \\pi^2 R}{T^2} = g\n",
    "$$\n",
    "Solving for T:\n",
    "$$\n",
    "T = \\sqrt{\\frac{4 \\pi^2 R}{g}}\n",
    "$$"
   ]
  },
  {
   "cell_type": "code",
   "execution_count": 14,
   "metadata": {},
   "outputs": [
    {
     "data": {
      "text/plain": [
       "1.406412054308739"
      ]
     },
     "execution_count": 14,
     "metadata": {},
     "output_type": "execute_result"
    }
   ],
   "source": [
    "# Given gravitational acceleration\n",
    "g = 9.81  # m/s²\n",
    "\n",
    "# Compute the required period for weightlessness\n",
    "T_weightless = math.sqrt((4 * math.pi**2 * R) / g)\n",
    "\n",
    "T_weightless / 60 / 60  # Convert to hours\n"
   ]
  },
  {
   "cell_type": "markdown",
   "metadata": {},
   "source": [
    "## Problem 4\n",
    "![image.png](../../utils/kinematics-assignments-images/problem-4-2.png)"
   ]
  },
  {
   "cell_type": "markdown",
   "metadata": {},
   "source": [
    "### Answer"
   ]
  },
  {
   "cell_type": "markdown",
   "metadata": {},
   "source": [
    "## Problem 5\n",
    "![image.png](../../utils/kinematics-assignments-images/problem-5-2.png)"
   ]
  },
  {
   "cell_type": "markdown",
   "metadata": {},
   "source": [
    "### Answer"
   ]
  },
  {
   "cell_type": "markdown",
   "metadata": {},
   "source": [
    "## Problem 6\n",
    "![image.png](../../utils/kinematics-assignments-images/problem-6-2.png)"
   ]
  },
  {
   "cell_type": "markdown",
   "metadata": {},
   "source": [
    "### Answer"
   ]
  },
  {
   "cell_type": "markdown",
   "metadata": {},
   "source": [
    "## Problem 7\n",
    "![image.png](../../utils/kinematics-assignments-images/problem-7-2.png)"
   ]
  },
  {
   "cell_type": "markdown",
   "metadata": {},
   "source": [
    "### Answer"
   ]
  },
  {
   "cell_type": "markdown",
   "metadata": {},
   "source": [
    "## Problem 8\n",
    "![image.png](../../utils/kinematics-assignments-images/problem-8-2.png)"
   ]
  },
  {
   "cell_type": "markdown",
   "metadata": {},
   "source": [
    "### Answer"
   ]
  },
  {
   "cell_type": "markdown",
   "metadata": {},
   "source": [
    "## Problem 9\n",
    "![image.png](../../utils/kinematics-assignments-images/problem-9-2.png)"
   ]
  },
  {
   "cell_type": "markdown",
   "metadata": {},
   "source": [
    "### Answer"
   ]
  },
  {
   "cell_type": "markdown",
   "metadata": {},
   "source": [
    "## Problem 10\n",
    "![image.png](../../utils/kinematics-assignments-images/problem-10-2.png)"
   ]
  },
  {
   "cell_type": "markdown",
   "metadata": {},
   "source": [
    "### Answer"
   ]
  },
  {
   "cell_type": "markdown",
   "metadata": {},
   "source": [
    "## Problem 11\n",
    "![image.png](../../utils/kinematics-assignments-images/problem-11-2.png)"
   ]
  },
  {
   "cell_type": "markdown",
   "metadata": {},
   "source": [
    "### Answer"
   ]
  },
  {
   "cell_type": "markdown",
   "metadata": {},
   "source": []
  }
 ],
 "metadata": {
  "kernelspec": {
   "display_name": "Python 3",
   "language": "python",
   "name": "python3"
  },
  "language_info": {
   "codemirror_mode": {
    "name": "ipython",
    "version": 3
   },
   "file_extension": ".py",
   "mimetype": "text/x-python",
   "name": "python",
   "nbconvert_exporter": "python",
   "pygments_lexer": "ipython3",
   "version": "3.11.10"
  }
 },
 "nbformat": 4,
 "nbformat_minor": 2
}
