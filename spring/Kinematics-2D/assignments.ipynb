{
 "cells": [
  {
   "cell_type": "code",
   "metadata": {
    "ExecuteTime": {
     "end_time": "2025-05-27T09:56:19.376038Z",
     "start_time": "2025-05-27T09:56:19.373037Z"
    }
   },
   "source": [
    "from sympy import *"
   ],
   "outputs": [],
   "execution_count": 22
  },
  {
   "cell_type": "markdown",
   "metadata": {},
   "source": [
    "# Chapter 4 - Problems\n",
    "## Problem 1.\n",
    "![image.png](../../utils/kinematics-assignments-images/problem-1-2.png)"
   ]
  },
  {
   "cell_type": "markdown",
   "metadata": {},
   "source": [
    "### Answer\n",
    "The first point is where the ball moves the quickes, then it is slowest in point two and in the third point it is quicker again. So the answer is E."
   ]
  },
  {
   "cell_type": "markdown",
   "metadata": {},
   "source": [
    "## Problem 2\n",
    "![image.png](../../utils/kinematics-assignments-images/problem-2-2.png)"
   ]
  },
  {
   "cell_type": "markdown",
   "metadata": {},
   "source": [
    "### Answer\n",
    "We know that the ball undergoes protejctile motion after being kicked horizontally. \n",
    "The given staircase consists of square steps with side length $d$, meaning the ball falls a vertical distance $d$ while traveling a horizontal distance $d$.\n",
    "\n",
    "The vertical motion can then be explained by a displacemnet $y = d$, and the motion is governed by free fall:\n",
    "$$\n",
    "y = \\frac{1}{2}g \\cdot t^2\n",
    "$$\n",
    "when we substitute $y = 3d$ we get:\n",
    "$$\n",
    "3d = \\frac{1}{2}g \\cdot t^2\n",
    "$$\n",
    "we can now solve for t, which gives us\n",
    "$$\n",
    "t = \\sqrt{\\frac{6d}{g}}\n",
    "$$\n",
    "The horizontal displacement $x=3d$ and horizontal velocity is $v$, so:\n",
    "$$\n",
    "x = v \\cdot t\n",
    "$$\n",
    "substituting for $x=3d$ and t\n",
    "$$\n",
    "3d = v \\cdot \\sqrt{\\frac{6d}{g}}\n",
    "$$\n",
    "We can now solve for v\n",
    "$$\n",
    "v = \\frac{3d}{\\sqrt{\\frac{6d}{g}}} = 3d\\sqrt{\\frac{g}{6d}}\n",
    "$$\n",
    "Write the square root as\n",
    "$$\n",
    "\\sqrt{\\frac{g}{6d}} = \\frac{\\sqrt{g}}{\\sqrt{6d}}\n",
    "$$\n",
    "we now have\n",
    "$$\n",
    "v = \\frac{3d\\sqrt{g}}{\\sqrt{6d}}\n",
    "$$\n",
    "Notice that $3d=\\sqrt{9d^2}$, so\n",
    "$$\n",
    "v = \\frac{\\sqrt{9d^2g}}{\\sqrt{6d}} = \\sqrt{\\frac{9dg}{6}} = \\sqrt{\\frac{3dg}{2}} = \\frac{\\sqrt{3dg}}{\\sqrt{2}} \n",
    "$$"
   ]
  },
  {
   "cell_type": "markdown",
   "metadata": {},
   "source": [
    "## Problem 3\n",
    "![image.png](../../utils/kinematics-assignments-images/problem-3-2.png)"
   ]
  },
  {
   "cell_type": "markdown",
   "metadata": {},
   "source": [
    "### Answer\n",
    "From circular motion, centripetal acceleration is given by:\n",
    "$$\n",
    "a_{rad} = \\frac{v^2}{R}\n",
    "$$\n",
    "The velocity of a point at the equator due to Earth's rotation:\n",
    "$$\n",
    "v = \\frac{2 \\pi R}{T}\n",
    "$$"
   ]
  },
  {
   "cell_type": "code",
   "metadata": {
    "ExecuteTime": {
     "end_time": "2025-05-27T09:56:19.408930Z",
     "start_time": "2025-05-27T09:56:19.405934Z"
    }
   },
   "source": [
    "import math\n",
    "\n",
    "# Given values\n",
    "R = 6.37e6  # Radius of Earth in meters\n",
    "T = 86400  # Rotation period in seconds\n",
    "\n",
    "# Compute velocity at the equator\n",
    "v = (2 * math.pi * R) / T\n",
    "\n",
    "# Compute centripetal acceleration\n",
    "a_rad = v**2 / R\n",
    "\n",
    "a_rad # m/s^2"
   ],
   "outputs": [
    {
     "data": {
      "text/plain": [
       "0.03368772507016205"
      ]
     },
     "execution_count": 23,
     "metadata": {},
     "output_type": "execute_result"
    }
   ],
   "execution_count": 23
  },
  {
   "cell_type": "markdown",
   "metadata": {},
   "source": [
    "A person at the equator becomes weightless when the centripetal acceleration equals the gravitational acceleration:\n",
    "$$\n",
    "a_{rad} = g\n",
    "$$\n",
    "From the equation:\n",
    "$$\n",
    "\\frac{4 \\pi^2 R}{T^2} = g\n",
    "$$\n",
    "Solving for T:\n",
    "$$\n",
    "T = \\sqrt{\\frac{4 \\pi^2 R}{g}}\n",
    "$$"
   ]
  },
  {
   "cell_type": "code",
   "metadata": {
    "ExecuteTime": {
     "end_time": "2025-05-27T09:56:19.432404Z",
     "start_time": "2025-05-27T09:56:19.429270Z"
    }
   },
   "source": [
    "# Given gravitational acceleration\n",
    "g = 9.81  # m/s²\n",
    "\n",
    "# Compute the required period for weightlessness\n",
    "T_weightless = math.sqrt((4 * math.pi**2 * R) / g)\n",
    "\n",
    "T_weightless / 60 / 60  # Convert to hours\n"
   ],
   "outputs": [
    {
     "data": {
      "text/plain": [
       "1.406412054308739"
      ]
     },
     "execution_count": 24,
     "metadata": {},
     "output_type": "execute_result"
    }
   ],
   "execution_count": 24
  },
  {
   "cell_type": "markdown",
   "metadata": {},
   "source": [
    "## Problem 4\n",
    "![image.png](../../utils/kinematics-assignments-images/problem-4-2.png)"
   ]
  },
  {
   "cell_type": "markdown",
   "metadata": {},
   "source": [
    "### Answer"
   ]
  },
  {
   "cell_type": "code",
   "metadata": {
    "ExecuteTime": {
     "end_time": "2025-05-27T09:56:19.461923Z",
     "start_time": "2025-05-27T09:56:19.458919Z"
    }
   },
   "source": [
    "t = 3.5 # s\n",
    "theta = 50 # degree\n",
    "theta = math.radians(theta)  # Convert to radians\n",
    "g = 9.81 # m/s^2"
   ],
   "outputs": [],
   "execution_count": 25
  },
  {
   "cell_type": "markdown",
   "metadata": {},
   "source": [
    "We know that the displacement vector from $A$ to $B$, over the $3.5$s, has a direction of $50\\degree$ below the horizontal, meaning\n",
    "$$\n",
    "\\tan{50\\degree}=\\frac{y}{x}\n",
    "$$\n",
    "where:\n",
    "* $x = v_{0x}\\cdot t = v_0 \\cdot t$ (since the launch is horizontal)\n",
    "* $y = \\frac{1}{2}gt^2$ (vertical displacement due to gravity, downward)\n",
    "\n",
    "we can now say\n",
    "$$\n",
    "\\tan{50\\degree} = \\frac{\\frac{1}{2}gt^2}{v_0 \\cdot t} \\iff v_0 = \\frac{\\frac{1}{2}gt}{\\tan(50\\degree)}\n",
    "$$"
   ]
  },
  {
   "cell_type": "code",
   "metadata": {
    "ExecuteTime": {
     "end_time": "2025-05-27T09:56:19.486284Z",
     "start_time": "2025-05-27T09:56:19.482203Z"
    }
   },
   "source": [
    "# we compute the starting velocity\n",
    "v0 = (1/2 * g * t) / tan(theta)\n",
    "v0\n"
   ],
   "outputs": [
    {
     "data": {
      "text/plain": [
       "14.4052429182360"
      ],
      "text/latex": "$\\displaystyle 14.405242918236$"
     },
     "execution_count": 26,
     "metadata": {},
     "output_type": "execute_result"
    }
   ],
   "execution_count": 26
  },
  {
   "cell_type": "markdown",
   "metadata": {},
   "source": [
    "## Problem 5\n",
    "![image.png](../../utils/kinematics-assignments-images/problem-5-2.png)"
   ]
  },
  {
   "cell_type": "code",
   "metadata": {
    "ExecuteTime": {
     "end_time": "2025-05-27T09:56:19.517510Z",
     "start_time": "2025-05-27T09:56:19.514455Z"
    }
   },
   "source": [
    "H = 0.3 # m\n",
    "g = 9.81 # m/s^2\n",
    "L = 10 # m\n",
    "R = L"
   ],
   "outputs": [],
   "execution_count": 27
  },
  {
   "cell_type": "markdown",
   "metadata": {},
   "source": [
    "### Answer\n",
    "For this we will use the max height formular\n",
    "$$\n",
    "H = \\frac{v_0^2\\sin{\\theta}^2}{2g} \\iff v_0^2\\sin{\\theta}^2 = 2Hg\n",
    "$$"
   ]
  },
  {
   "cell_type": "markdown",
   "metadata": {},
   "source": [
    "We can now use the range formular\n",
    "$$\n",
    "R = \\frac{v_0^2\\sin{2\\theta}}{g} \\iff v_0^2\\sin{2\\theta} = Rg\n",
    "$$\n",
    "we can now solve this as we have only two unknown variables"
   ]
  },
  {
   "cell_type": "code",
   "metadata": {
    "ExecuteTime": {
     "end_time": "2025-05-27T09:56:19.820632Z",
     "start_time": "2025-05-27T09:56:19.531782Z"
    }
   },
   "source": [
    "v0, theta = symbols('v0 theta')\n",
    "\n",
    "eq1 = Eq(v0**2 * sin(theta)**2, 2 * g * H)\n",
    "eq2 = Eq(v0**2 * sin(2*theta), R*g)\n",
    "# Solve the equations for v0 and theta\n",
    "solution = solve((eq1, eq2), (v0, theta))\n",
    "# We only want the positive solution for v0 and theta\n",
    "solution = [(v0_val.evalf(), math.degrees(theta_val.evalf())) for v0_val, theta_val in solution if v0_val > 0 and theta_val > 0]\n",
    "# Display the solution\n",
    "solution"
   ],
   "outputs": [
    {
     "data": {
      "text/plain": [
       "[(20.3626127989509, 6.84277341263094)]"
      ]
     },
     "execution_count": 28,
     "metadata": {},
     "output_type": "execute_result"
    }
   ],
   "execution_count": 28
  },
  {
   "cell_type": "markdown",
   "metadata": {},
   "source": [
    "For the time of flight we can just use horizontal motion:\n",
    "$$\n",
    "x = v_0\\cos{\\theta}\\cdot t \\iff t = \\frac{x}{v_0\\cos{\\theta}}\n",
    "$$\n",
    "where $x = 10m$"
   ]
  },
  {
   "cell_type": "code",
   "metadata": {
    "ExecuteTime": {
     "end_time": "2025-05-27T09:56:19.839956Z",
     "start_time": "2025-05-27T09:56:19.835954Z"
    }
   },
   "source": [
    "x = 10 # m\n",
    "v0 = solution[0][0]  # Extract the first solution for v0\n",
    "theta = math.radians(solution[0][1])  # Convert theta to radians\n",
    "# Compute the time of flight for the projectile in seconds\n",
    "t = x / (v0 * cos(theta))\n",
    "t\n"
   ],
   "outputs": [
    {
     "data": {
      "text/plain": [
       "0.494619366829498"
      ],
      "text/latex": "$\\displaystyle 0.494619366829498$"
     },
     "execution_count": 29,
     "metadata": {},
     "output_type": "execute_result"
    }
   ],
   "execution_count": 29
  },
  {
   "cell_type": "markdown",
   "metadata": {},
   "source": [
    "## Problem 6\n",
    "![image.png](../../utils/kinematics-assignments-images/problem-6-2.png)"
   ]
  },
  {
   "cell_type": "markdown",
   "metadata": {},
   "source": [
    "### Answer\n",
    "For the assignment we are given:\n",
    "* initial vertical position $y_0 = 3m$\n",
    "* maximum height above the springboard $\\Delta y = 2.5m \\to$ total maximum height $y_{max} = y_0 + \\Delta y = 3m + 2.5m = 5.5m$\n",
    "* Final vertical position $y = 0m$ (the water surface)\n",
    "* Horizontal range $R = 2.8m$\n",
    "\n",
    "To find the initial velocity $v_0$ and launch angle $\\theta$, we can use the following equations:\n",
    "$$\n",
    "y_{max} = y_0 + \\frac{(v_0 \\sin{\\theta)^2}}{2g}\n",
    "$$\n",
    "$$\n",
    "R = \\frac{v_0^2 \\sin{2\\theta}}{g}\n",
    "$$\n",
    "\n",
    "For the horizontal velocity component we can use:\n",
    "$$\n",
    "x(t) = v_0 \\cos{\\theta} \\cdot t\n",
    "$$\n",
    "For the total initial speed and angle we now have\n",
    "$$\n",
    "v_0 = \\sqrt{v_{0x}^2 + v_{0y}^2}\n",
    "$$\n",
    "and\n",
    "$$\n",
    "\\theta = \\tan^{-1}\\left(\\frac{v_{0y}}{v_{0x}}\\right)\n",
    "$$\n"
   ]
  },
  {
   "metadata": {
    "ExecuteTime": {
     "end_time": "2025-05-27T09:58:21.761119Z",
     "start_time": "2025-05-27T09:58:21.714670Z"
    }
   },
   "cell_type": "code",
   "source": [
    "# Known quantities\n",
    "y0 = 3          # m\n",
    "delta_y = 2.5   # m\n",
    "y_max = y0 + delta_y  # 5.5 m\n",
    "g = 9.81        # m/s^2\n",
    "R = 2.8         # m (horizontal distance to landing)\n",
    "y = 0           # final y position\n",
    "\n",
    "# Unknowns\n",
    "v0, theta, t = symbols('v0 theta t', real=True, positive=True)\n",
    "\n",
    "# Step 1: Use max height to get v0*sin(theta)\n",
    "v0y = v0 * sin(theta)\n",
    "eq1 = Eq(y_max, y0 + (v0y**2) / (2 * g))  # vertical motion max height\n",
    "\n",
    "# Solve eq1 for v0*sin(theta)\n",
    "v0y_val = [i for i in solve(eq1, v0y) if i > 0][0]  # Only positive root makes physical sense\n",
    "\n",
    "# Step 2: Time of flight using vertical motion equation\n",
    "# y = y0 + v0*sin(theta)*t - 0.5*g*t^2 = 0\n",
    "eq2 = Eq(y0 + v0y_val * t - 0.5 * g * t**2, 0)\n",
    "\n",
    "# Solve eq2 for time of flight\n",
    "t_val = solve(eq2, t)\n",
    "t_val = [sol.evalf() for sol in t_val if sol.evalf() > 0][0]  # positive root\n",
    "\n",
    "# Step 3: Use horizontal motion to get v0*cos(theta)\n",
    "# x = v0*cos(theta)*t = R → solve for v0*cos(theta)\n",
    "v0x = R / t_val\n",
    "\n",
    "# v0 = sqrt(v0x^2 + v0y^2)\n",
    "v0_val = sqrt(v0x**2 + v0y_val**2).evalf()\n",
    "\n",
    "# theta = atan(v0y / v0x)\n",
    "theta_val = math.degrees(atan(v0y_val / v0x))\n",
    "\n",
    "# Final results\n",
    "print(f\"v0y = {v0y_val:.1f} m/s\")\n",
    "print(f\"Time of flight = {t_val:.1f} s\")\n",
    "print(f\"v0x = {v0x:.1f} m/s\")\n",
    "print(f\"Initial speed v0 = {v0_val:.1f} m/s\")\n",
    "print(f\"Angle of projection θ = {theta_val:.1f} degrees\")"
   ],
   "outputs": [
    {
     "name": "stdout",
     "output_type": "stream",
     "text": [
      "v0y = 7.0 m/s\n",
      "Time of flight = 1.8 s\n",
      "v0x = 1.6 m/s\n",
      "Initial speed v0 = 7.2 m/s\n",
      "Angle of projection θ = 77.3 degrees\n"
     ]
    }
   ],
   "execution_count": 34
  },
  {
   "cell_type": "markdown",
   "metadata": {},
   "source": [
    "## Problem 7\n",
    "![image.png](../../utils/kinematics-assignments-images/problem-7-2.png)"
   ]
  },
  {
   "metadata": {},
   "cell_type": "markdown",
   "source": [
    "### Answer\n",
    "We can start by setting the relative motion to the ground frame.\n",
    "* horizontal velocity: v (inherited from the cart)\n",
    "* vertical velocity: v (from the cannon shooting the projectile)\n",
    "\n",
    "So the total initial velocity of the projectile is:\n",
    "* $v_{0x} = v$\n",
    "* $v_{0y} = v$\n",
    "\n",
    "Since the projectile is launched vertically (in the cart frame) and only affected by gravity vertically:\n",
    "* Time to reach the maximum height: $t_{up} = \\frac{v_{0y}}{g} = \\frac{v}{g}$\n",
    "* Total time of flight: $t_{total} = 2 \\cdot t_{up} = \\frac{2v}{g}$\n",
    "While in the air, the projectile travels horizontally at constant speed v:\n",
    "$$\n",
    "Horizontal \\ distance = v_{0x} \\cdot t_{total} = v \\cdot \\frac{2v}{g}\n",
    "$$\n",
    "We are told that this must equal the horizontal distance L:\n",
    "$$\n",
    "L = v \\cdot \\frac{2v}{g} \\iff v^2 = \\frac{gL}{2} \\iff v = \\sqrt{\\frac{gL}{2}}\n",
    "$$"
   ]
  },
  {
   "cell_type": "markdown",
   "metadata": {},
   "source": [
    "## Problem 8\n",
    "![image.png](../../utils/kinematics-assignments-images/problem-8-2.png)"
   ]
  },
  {
   "cell_type": "markdown",
   "metadata": {},
   "source": [
    "### Answer\n",
    "Since the throw and catch occur at the same height, potential energy is the same — the only thing affecting arrival speed is the trajectory.\n",
    "* The minimum speed at the target occurs when the ball is thrown at a $45\\degree$ angle.\n",
    "\n",
    "Why $45\\degree$?\n",
    "* For a given range $R = \\frac{v_0^2 \\sin{2\\theta}}{g}$, the maximum range occurs at $\\theta = 45\\degree$ because $\\sin{90\\degree} = 1$ and this is the maximum value of the sine function.\n",
    "\n",
    "So what we can do is use the range formula to find the minimum speed:\n",
    "$$\n",
    "R = \\frac{v_0^2 \\sin{90\\degree}}{g} \\iff v_0^2 = Rg \\iff v_0 = \\sqrt{Rg}\n",
    "$$"
   ]
  },
  {
   "cell_type": "markdown",
   "metadata": {},
   "source": [
    "## Problem 9\n",
    "![image.png](../../utils/kinematics-assignments-images/problem-9-2.png)"
   ]
  },
  {
   "cell_type": "markdown",
   "metadata": {},
   "source": [
    "### Answer\n",
    "We are given:\n",
    "* Particle 1 is projected horizontally from a height h with speed $v_0$\n",
    "* Particle 2 moves horizontally at speed $\\frac{v_0}{2}$ from a point distance L away\n",
    "* They start at the same time and collide at time T\n",
    "\n",
    "We can start by analyzing the horizontal motion.\n",
    "* First we place the origin at the point where particle 1 is launched.\n",
    "* Particle 1's horizontal position at time T is:\n",
    "$$\n",
    "x_1 = v_0 \\cdot T\n",
    "$$\n",
    "* Particle 2 starts from x = L and moves left:\n",
    "$$\n",
    "x_2 = L + \\frac{v_0}{2} \\cdot T\n",
    "$$\n",
    "They collide when $x_1 = x_2$:"
   ]
  },
  {
   "metadata": {
    "ExecuteTime": {
     "end_time": "2025-05-27T10:34:01.172873Z",
     "start_time": "2025-05-27T10:34:01.164871Z"
    }
   },
   "cell_type": "code",
   "source": [
    "x1, x2, v0, T, L = symbols('x1 x2 v0 T L')\n",
    "eq = Eq(v0 * T, L + (v0 / 2) * T)\n",
    "# Solve for T\n",
    "T_solution = solve(eq, T)[0]  # Get the first solution\n",
    "T_solution"
   ],
   "outputs": [
    {
     "data": {
      "text/plain": [
       "2*L/v0"
      ],
      "text/latex": "$\\displaystyle \\frac{2 L}{v_{0}}$"
     },
     "execution_count": 46,
     "metadata": {},
     "output_type": "execute_result"
    }
   ],
   "execution_count": 46
  },
  {
   "metadata": {},
   "cell_type": "markdown",
   "source": [
    "We can now determine the height h. From vertical motion of particle 1 we have that it falls under gravity for time T:\n",
    "$$\n",
    "h = \\frac{1}{2}gT^2\n",
    "$$"
   ]
  },
  {
   "metadata": {
    "ExecuteTime": {
     "end_time": "2025-05-27T10:34:04.374274Z",
     "start_time": "2025-05-27T10:34:04.370463Z"
    }
   },
   "cell_type": "code",
   "source": [
    "g = symbols('g')\n",
    "h = 1/2 * g * T_solution**2\n",
    "h"
   ],
   "outputs": [
    {
     "data": {
      "text/plain": [
       "2.0*L**2*g/v0**2"
      ],
      "text/latex": "$\\displaystyle \\frac{2.0 L^{2} g}{v_{0}^{2}}$"
     },
     "execution_count": 47,
     "metadata": {},
     "output_type": "execute_result"
    }
   ],
   "execution_count": 47
  },
  {
   "metadata": {},
   "cell_type": "markdown",
   "source": [
    "The value of h is now known. The velocity in the x- and y-directions of the first particle is\n",
    "$$\n",
    "v_{1x} = v_0, \\quad v_{2y} = -gt\n",
    "$$\n",
    "The collision occurs at time $T$\n",
    "$$\n",
    "h = \\frac{1}{2}gT^2 \\iff T = \\sqrt{\\frac{2h}{g}}\n",
    "$$\n",
    "The velocity of the particle 1 before the collision is:\n",
    "$$\n",
    "v_{1x} = v_0, \\quad v_{1y} = -gT = -\\sqrt{2gh}\n",
    "$$\n",
    "The velocity vector $\\vec{v}_1$ is:\n",
    "$$\n",
    "\\vec{v}_1 = \\begin{pmatrix} v_0 \\\\ -\\sqrt{2gh} \\end{pmatrix}\n",
    "$$\n",
    "The second particle has only a velocity in the x-direction:\n",
    "$$\n",
    "\\vec{v}_2 = \\begin{pmatrix} \\frac{v_0}{2} \\\\ 0 \\end{pmatrix}\n",
    "$$\n",
    "The relative velocity between the two particles can now be calculated\n",
    "$$\n",
    "\\vec{v}_{rel} = \\vec{v}_1 - \\vec{v}_2 = \\begin{pmatrix} v_0 - \\frac{v_0}{2} \\\\ -\\sqrt{2gh} - 0 \\end{pmatrix} = \\begin{pmatrix} \\frac{v_0}{2} \\\\ -\\sqrt{2gh} \\end{pmatrix}\n",
    "$$\n",
    "The magnitude of the relative velocity vector is:\n",
    "$$\n",
    "|\\vec{v}_{rel}| = \\sqrt{\\left(\\frac{v_0}{2}\\right)^2 + \\left(-\\sqrt{2gh}\\right)^2} = \\sqrt{\\frac{v_0^2}{4} + 2gh}\n",
    "$$\n"
   ]
  },
  {
   "cell_type": "markdown",
   "metadata": {},
   "source": [
    "## Problem 10\n",
    "![image.png](../../utils/kinematics-assignments-images/problem-10-2.png)"
   ]
  },
  {
   "cell_type": "markdown",
   "metadata": {},
   "source": [
    "### Answer\n",
    "**a)**\n",
    "\n",
    "![image.png](../../utils/kinematics-assignments-images/sketch-problem-10.png)\n",
    "\n",
    "**b)**\n",
    "\n",
    "The parabola $y(x)$ is given by the equation:\n",
    "$$\n",
    "y(x) = tan(\\theta) \\cdot x - \\frac{g}{2v_0^2 \\cos^2(\\theta)} x^2\n",
    "$$\n",
    "We can now use python to isolate the initial velocity $v_0$:"
   ]
  },
  {
   "metadata": {
    "ExecuteTime": {
     "end_time": "2025-05-27T11:01:47.244606Z",
     "start_time": "2025-05-27T11:01:47.060494Z"
    }
   },
   "cell_type": "code",
   "source": [
    "y, x, g, theta, v0 = symbols('y x g theta v0')\n",
    "eq = Eq(y - tan(theta) * x, - (g / (2 * v0**2 * cos(theta)**2)) * x**2)\n",
    "sol = solve(eq, v0)[1]\n",
    "# A path of motion that travels above the defenders and into the goal is found by insert\n",
    "v0 = sol.subs([(x, 10), (y, 2), (g, 9.81), (theta, math.radians(15))])  # Example values\n",
    "v0.evalf()  # Evaluate the expression to get a numerical value"
   ],
   "outputs": [
    {
     "data": {
      "text/plain": [
       "27.8152890877933"
      ],
      "text/latex": "$\\displaystyle 27.8152890877933$"
     },
     "execution_count": 56,
     "metadata": {},
     "output_type": "execute_result"
    }
   ],
   "execution_count": 56
  },
  {
   "metadata": {},
   "cell_type": "markdown",
   "source": [
    "**c)**\n",
    "\n",
    "We calculate the initial velocity for the two extreme cases where the ball lands on the goal line $(x,y) = (3L, 0)$, and where it hits the goal post $(x,y) = (3L, H)$.\n",
    "When the ball hits goal line $(x,y) = (3L, 0)$, we have:"
   ]
  },
  {
   "metadata": {
    "ExecuteTime": {
     "end_time": "2025-05-27T11:05:54.460281Z",
     "start_time": "2025-05-27T11:05:54.456698Z"
    }
   },
   "cell_type": "code",
   "source": [
    "v0_new = sol.subs([(x, 3*10), (y, 0), (g, 9.81), (theta, math.radians(15))])  # Example values\n",
    "v0_new.evalf()  # Evaluate the expression to get a numerical value\n"
   ],
   "outputs": [
    {
     "data": {
      "text/plain": [
       "24.2610799429869"
      ],
      "text/latex": "$\\displaystyle 24.2610799429869$"
     },
     "execution_count": 58,
     "metadata": {},
     "output_type": "execute_result"
    }
   ],
   "execution_count": 58
  },
  {
   "metadata": {},
   "cell_type": "markdown",
   "source": "We can now notice that the ball will collide with the wall of defenders, see question b)."
  },
  {
   "metadata": {
    "ExecuteTime": {
     "end_time": "2025-05-27T11:08:13.571377Z",
     "start_time": "2025-05-27T11:08:13.558362Z"
    }
   },
   "cell_type": "code",
   "source": [
    "v0_goal_post = sol.subs([(x, 3*10), (y, 2.44), (g, 9.81), (theta, math.radians(15))])  # Example values\n",
    "v0_goal_post.evalf()  # Evaluate the expression to get a numerical value"
   ],
   "outputs": [
    {
     "data": {
      "text/plain": [
       "29.0711412249509"
      ],
      "text/latex": "$\\displaystyle 29.0711412249509$"
     },
     "execution_count": 59,
     "metadata": {},
     "output_type": "execute_result"
    }
   ],
   "execution_count": 59
  },
  {
   "metadata": {},
   "cell_type": "markdown",
   "source": [
    "This means that the velocity of the ball should be in the interval\n",
    "$$\n",
    "27.8 \\frac{m}{s} < v_0 < 29.1 \\frac{m}{s}\n",
    "$$\n",
    "This is a small interval, so we can conclude that it is not an easy goal to make"
   ]
  },
  {
   "cell_type": "markdown",
   "metadata": {},
   "source": [
    "## Problem 11\n",
    "![image.png](../../utils/kinematics-assignments-images/problem-11-2.png)"
   ]
  },
  {
   "metadata": {},
   "cell_type": "markdown",
   "source": [
    "### Answer\n",
    "We know the tangential acceleration is given by:\n",
    "$$\n",
    "a_t = \\frac{dv}{dt} = a_0\n",
    "$$\n",
    "We integrate with respect to time\n",
    "$$\n",
    "\\int_0^{v_0} dv = \\int_0^t a_0 dt \\implies v_0 = a_0 t\n",
    "$$\n",
    "The radial acceleration is given by the centripetal acceleration.\n",
    "$$\n",
    "a_r = \\frac{v^2}{R} = \\frac{(a_0 t)^2}{R} = \\frac{a_0^2 t^2}{R}\n",
    "$$\n",
    "\n",
    "**b)**\n",
    "\n",
    "The tangential acceleration is constant during the circular motion, but the radial acceleration is\n",
    "increasing with $t$. We must determine the time $t$ it takes to perform one revolution.\n",
    "\n",
    "The motion is along the line which is a 1-dimensional movement with length $2\\pi R$ and constant acceleration $a_0$.\n",
    "$$\n",
    "x(t) = \\frac{1}{2} a_0 t^2\n",
    "$$\n",
    "After one revolution $x(T)$, the distance is $2\\pi R$:\n",
    "$$\n",
    "2\\pi R = \\frac{1}{2} a_0 T^2 \\implies T = 2\\sqrt{\\frac{\\pi R}{a_0}}\n",
    "$$\n",
    "The radial acceleration after one revolution (after time T has passed) can be determined\n",
    "$$\n",
    "a_r(T) = \\frac{a_0^2 T^2}{R} = \\frac{a_0^2 (2\\sqrt{\\frac{\\pi R}{a_0}})^2}{R} = \\frac{4\\pi a_0 R}{R} = 4\\pi a_0\n",
    "$$\n",
    "We now have the two components of the acceleration to find the magnitude\n",
    "$$\n",
    "a = \\sqrt{a_t^2 + a_r^2} = \\sqrt{a_0^2 + (4\\pi a_0)^2} = a_0 \\sqrt{1 + 16\\pi^2}\n",
    "$$"
   ]
  }
 ],
 "metadata": {
  "kernelspec": {
   "display_name": "DTUMisc",
   "language": "python",
   "name": "python3"
  },
  "language_info": {
   "codemirror_mode": {
    "name": "ipython",
    "version": 3
   },
   "file_extension": ".py",
   "mimetype": "text/x-python",
   "name": "python",
   "nbconvert_exporter": "python",
   "pygments_lexer": "ipython3",
   "version": "3.11.10"
  }
 },
 "nbformat": 4,
 "nbformat_minor": 2
}
