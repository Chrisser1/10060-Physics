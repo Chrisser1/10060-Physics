{
 "cells": [
  {
   "cell_type": "code",
   "execution_count": 71,
   "metadata": {},
   "outputs": [],
   "source": [
    "from sympy import *\n",
    "init_printing()"
   ]
  },
  {
   "cell_type": "markdown",
   "metadata": {},
   "source": [
    "# Problem 1\n",
    "![image.png](../../utils/forces-assignments-images/2-1.png)"
   ]
  },
  {
   "cell_type": "markdown",
   "metadata": {},
   "source": [
    "## a)\n",
    "![image.png](../../utils/images/fd2-1.png)"
   ]
  },
  {
   "cell_type": "markdown",
   "metadata": {},
   "source": [
    "## b)"
   ]
  },
  {
   "cell_type": "code",
   "execution_count": 72,
   "metadata": {},
   "outputs": [
    {
     "data": {
      "image/png": "[encoded data removed]",
      "text/latex": [
       "$\\displaystyle \\frac{F \\mu_{k} \\sin{\\left(\\theta \\right)} + F \\cos{\\left(\\theta \\right)} - g m \\mu_{k}}{m}$"
      ],
      "text/plain": [
       "F⋅μₖ⋅sin(θ) + F⋅cos(θ) - g⋅m⋅μₖ\n",
       "───────────────────────────────\n",
       "               m               "
      ]
     },
     "execution_count": 72,
     "metadata": {},
     "output_type": "execute_result"
    }
   ],
   "source": [
    "a, m, g, F, theta, mu_k = symbols('a m g F theta mu_k')\n",
    "# newtons first law\n",
    "n = m*g - F * sin(theta)\n",
    "# newtons second law\n",
    "f_k = mu_k * n\n",
    "eq1 = Eq(m*a, F*cos(theta) - f_k)\n",
    "# solve for a\n",
    "a = solve(eq1, a)[0]\n",
    "a"
   ]
  },
  {
   "cell_type": "markdown",
   "metadata": {},
   "source": [
    "## d)"
   ]
  },
  {
   "cell_type": "code",
   "execution_count": 73,
   "metadata": {},
   "outputs": [
    {
     "data": {
      "image/png": "[encoded data removed]",
      "text/latex": [
       "$\\displaystyle \\frac{g m \\mu_{k}}{\\mu_{k} \\sin{\\left(\\theta \\right)} + \\cos{\\left(\\theta \\right)}}$"
      ],
      "text/plain": [
       "      g⋅m⋅μₖ      \n",
       "──────────────────\n",
       "μₖ⋅sin(θ) + cos(θ)"
      ]
     },
     "execution_count": 73,
     "metadata": {},
     "output_type": "execute_result"
    }
   ],
   "source": [
    "# I dette tilfælde er a = 0\n",
    "m, g, F, theta, mu_k = symbols('m g F theta mu_k')\n",
    "a=0\n",
    "# newtons first law\n",
    "n = m*g - F * sin(theta)\n",
    "# newtons second law\n",
    "f_k = mu_k * n\n",
    "eq1 = Eq(m*a, F*cos(theta) - f_k)\n",
    "# solve for a\n",
    "F = solve(eq1, F)[0]\n",
    "F"
   ]
  },
  {
   "cell_type": "markdown",
   "metadata": {},
   "source": [
    "## e)"
   ]
  },
  {
   "cell_type": "markdown",
   "metadata": {},
   "source": [
    "For at løse dette vil vi tage dirivative af $F$ i forhold til $\\theta$ og sætte det lig med 0:\n",
    "$$\n",
    "\\frac{dF}{d\\theta} = 0\n",
    "$$\n",
    "Vi har at\n",
    "$$\n",
    "F = \\frac{\\mu_k mg}{\\cos{\\theta}+\\mu_k\\sin{\\theta}}\n",
    "$$\n",
    "Som vi kan se, så er det øverste en konstant, vi kan altså sige at vi vil maximere det nederste:\n",
    "$$\n",
    "\\frac{d}{d\\theta}(\\cos{\\theta} + \\mu_k \\sin{\\theta})\n",
    "$$"
   ]
  },
  {
   "cell_type": "code",
   "execution_count": 74,
   "metadata": {},
   "outputs": [
    {
     "data": {
      "image/png": "[encoded data removed]",
      "text/latex": [
       "$\\displaystyle \\mu_{k} \\cos{\\left(\\theta \\right)} - \\sin{\\left(\\theta \\right)}$"
      ],
      "text/plain": [
       "μₖ⋅cos(θ) - sin(θ)"
      ]
     },
     "execution_count": 74,
     "metadata": {},
     "output_type": "execute_result"
    }
   ],
   "source": [
    "difference = diff(cos(theta) + mu_k*sin(theta), theta)\n",
    "difference"
   ]
  },
  {
   "cell_type": "markdown",
   "metadata": {},
   "source": [
    "Vi kan nu løse for $\\theta$:\n",
    "$$\n",
    "\\mu_k \\cos{\\theta} = \\sin{\\theta} \\Leftrightarrow \\tan{\\theta} = \\mu_k \\Leftrightarrow \\theta = \\tan^{-1}{\\mu_k}\n",
    "$$"
   ]
  },
  {
   "cell_type": "markdown",
   "metadata": {},
   "source": [
    "# Problem 2\n",
    "![image.png](../../utils/forces-assignments-images/2-2.png)"
   ]
  },
  {
   "cell_type": "markdown",
   "metadata": {},
   "source": [
    "## Answer\n",
    "C"
   ]
  },
  {
   "cell_type": "markdown",
   "metadata": {},
   "source": [
    "# Problem 3\n",
    "![image.png](../../utils/forces-assignments-images/2-3.png)"
   ]
  },
  {
   "cell_type": "markdown",
   "metadata": {},
   "source": [
    "## Svar\n",
    "B,C,E,F"
   ]
  },
  {
   "cell_type": "markdown",
   "metadata": {},
   "source": [
    "# Problem 4\n",
    "![image.png](../../utils/forces-assignments-images/2-4.png)"
   ]
  },
  {
   "cell_type": "markdown",
   "metadata": {},
   "source": [
    "## Svar\n",
    "D"
   ]
  },
  {
   "cell_type": "markdown",
   "metadata": {},
   "source": [
    "# Problem 5\n",
    "![image.png](../../utils/forces-assignments-images/2-5.png)"
   ]
  },
  {
   "cell_type": "markdown",
   "metadata": {},
   "source": [
    "## a)"
   ]
  },
  {
   "cell_type": "code",
   "execution_count": null,
   "metadata": {},
   "outputs": [],
   "source": []
  }
 ],
 "metadata": {
  "kernelspec": {
   "display_name": "Python 3",
   "language": "python",
   "name": "python3"
  },
  "language_info": {
   "codemirror_mode": {
    "name": "ipython",
    "version": 3
   },
   "file_extension": ".py",
   "mimetype": "text/x-python",
   "name": "python",
   "nbconvert_exporter": "python",
   "pygments_lexer": "ipython3",
   "version": "3.11.10"
  }
 },
 "nbformat": 4,
 "nbformat_minor": 2
}
