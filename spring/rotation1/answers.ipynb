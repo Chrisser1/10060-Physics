{
 "cells": [
  {
   "cell_type": "code",
   "execution_count": 1,
   "id": "777fa7d2",
   "metadata": {},
   "outputs": [],
   "source": [
    "from sympy import *"
   ]
  },
  {
   "cell_type": "markdown",
   "id": "d1ae4bef",
   "metadata": {},
   "source": [
    "# Problem 1\n",
    "![image.png](../../utils/rotation/thin-rod.png)\n",
    "\n",
    "If we analyse the image we see that each door act as a thin rod with the length of $R$. And based on the above image, we can describe the inertia as:\n",
    "$$\n",
    "I_{door} = \\frac{1}{3}MR^2\n",
    "$$\n",
    "as we have three doors, we have that the total inertia is:\n",
    "$$\n",
    "I_{tot} = 3 \\cdot I_{door} = MR^2\n",
    "$$"
   ]
  },
  {
   "cell_type": "markdown",
   "id": "d81616c1",
   "metadata": {},
   "source": [
    "# Problem 2\n",
    "![image.png](../../utils/rotation/solid-cylinder-or-disk.png)\n",
    "\n",
    "We know that the full cylinder without the hole follows the equation from above that gives us:\n",
    "$$\n",
    "I = \\frac{1}{2} M(6R)^2 = \\frac{36MR^2}{2} = 18MR^2\n",
    "$$"
   ]
  },
  {
   "cell_type": "markdown",
   "id": "095aa5e6",
   "metadata": {},
   "source": [
    "We can now start to analyse the hole we removed, which is proportional to $R^2$.\n",
    "$$\n",
    "m_{hole} = M \\cdot \\frac{R^2}{36R^2} = \\frac{M}{36}\n",
    "$$\n"
   ]
  },
  {
   "cell_type": "markdown",
   "id": "f555630c",
   "metadata": {},
   "source": [
    "We can now write up the inertia for the hole:\n",
    "$$\n",
    "I_{hole} = \\frac{1}{2}m_{hole}R^2 + m_{hole}(5R)^2\n",
    "$$\n",
    "Substituting $m_{hole}$\n",
    "$$\n",
    "I_{hole} = \\frac{1}{2}\\frac{MR^2}{36} + \\frac{M(5R)^2}{36} = \\frac{MR^2}{72} + \\frac{25MR^2}{36} = \\frac{51MR^2}{72}\n",
    "$$"
   ]
  },
  {
   "cell_type": "code",
   "execution_count": 21,
   "id": "fdc07d09",
   "metadata": {},
   "outputs": [
    {
     "data": {
      "text/latex": [
       "$\\displaystyle \\frac{415 M R^{2}}{24}$"
      ],
      "text/plain": [
       "415*M*R**2/24"
      ]
     },
     "execution_count": 21,
     "metadata": {},
     "output_type": "execute_result"
    }
   ],
   "source": [
    "# We can now write the full inertia:\n",
    "M, R = symbols('M R')\n",
    "I_tot = 18*M*R**2 - (51*M*R**2/72)\n",
    "I_tot\n"
   ]
  },
  {
   "cell_type": "markdown",
   "id": "a51e37cc",
   "metadata": {},
   "source": [
    "The answer is C."
   ]
  },
  {
   "cell_type": "markdown",
   "id": "96825996",
   "metadata": {},
   "source": [
    "# Problem 3"
   ]
  },
  {
   "cell_type": "code",
   "execution_count": 22,
   "id": "cb7768e9",
   "metadata": {},
   "outputs": [
    {
     "data": {
      "text/latex": [
       "$\\displaystyle 8.0 L^{2} M$"
      ],
      "text/plain": [
       "8.0*L**2*M"
      ]
     },
     "execution_count": 22,
     "metadata": {},
     "output_type": "execute_result"
    }
   ],
   "source": [
    "# a)\n",
    "L, M = symbols('L M')\n",
    "mass = 6*M\n",
    "length = 2*L\n",
    "\n",
    "I = 1/3 * mass * length**2\n",
    "I"
   ]
  },
  {
   "cell_type": "markdown",
   "id": "13a527b9",
   "metadata": {},
   "source": [
    "We can now use energy conservation:\n",
    "$$\n",
    "Inital \\, PE = Rotational \\, KE \\, at \\, vertical\n",
    "$$\n",
    "Initial potential energy:\n",
    "$$\n",
    "U_i=(6M)gL\n",
    "$$\n",
    "Rotational kinetic energy when vertical:\n",
    "$$\n",
    "K_f=\\frac{1}{2}I\\omega_1^2\n",
    "$$\n",
    "thus\n",
    "$$\n",
    "(6M)gL = \\frac{1}{2}(8L^2M)\\omega_1^2 = 6gL = 4L^2\\omega_1^2\n",
    "$$\n",
    "Divide both sides by $4L^2$:\n",
    "$$\n",
    "\\omega_1^2=\\frac{3g}{2L} \\to \\omega_1 = \\sqrt{\\frac{3g}{2L}}\n",
    "$$"
   ]
  },
  {
   "cell_type": "markdown",
   "id": "0f9bcea4",
   "metadata": {},
   "source": [
    "#### b)\n",
    "We can use energy conservation again between the initial horizontal and the new tilted position:\n",
    "\n",
    "At general angle $\\theta$, the center of mass has descended a vertical distance of:\n",
    "$$\n",
    "\\Lambda h = L(1-\\cos{\\theta})\n",
    "$$"
   ]
  },
  {
   "cell_type": "markdown",
   "id": "6f2d60fc",
   "metadata": {},
   "source": [
    "Thus:\n",
    "\n",
    "Initial PE loss = gain in rotational KE:\n",
    "\n",
    "$$\n",
    "(6M)gL(1- \\cos{\\theta}) = \\frac{1}{2}(8L^2M)\\omega^2\n",
    "$$\n",
    "\n",
    "This simplifies to:\n",
    "$$\n",
    "\\omega_1 = \\sqrt{\\frac{3g(1-\\cos{\\theta})}{2L}}\n",
    "$$"
   ]
  },
  {
   "cell_type": "code",
   "execution_count": null,
   "id": "9decdde5",
   "metadata": {},
   "outputs": [],
   "source": []
  }
 ],
 "metadata": {
  "kernelspec": {
   "display_name": "Python 3",
   "language": "python",
   "name": "python3"
  },
  "language_info": {
   "codemirror_mode": {
    "name": "ipython",
    "version": 3
   },
   "file_extension": ".py",
   "mimetype": "text/x-python",
   "name": "python",
   "nbconvert_exporter": "python",
   "pygments_lexer": "ipython3",
   "version": "3.11.10"
  }
 },
 "nbformat": 4,
 "nbformat_minor": 5
}
