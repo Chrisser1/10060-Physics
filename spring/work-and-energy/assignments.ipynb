{
 "cells": [
  {
   "cell_type": "code",
   "execution_count": 66,
   "metadata": {},
   "outputs": [],
   "source": [
    "from sympy import *"
   ]
  },
  {
   "cell_type": "markdown",
   "metadata": {},
   "source": [
    "# Problem 1\n",
    "![image.png](../../utils/work-and-energy/1.png)"
   ]
  },
  {
   "cell_type": "markdown",
   "metadata": {},
   "source": [
    "#### Svar\n",
    "A)"
   ]
  },
  {
   "cell_type": "markdown",
   "metadata": {},
   "source": [
    "# Problem 2\n",
    "![image.png](../../utils/work-and-energy/2.png)"
   ]
  },
  {
   "cell_type": "code",
   "execution_count": 67,
   "metadata": {},
   "outputs": [
    {
     "name": "stdout",
     "output_type": "stream",
     "text": [
      "The speed when moved a distance L is: \n"
     ]
    },
    {
     "data": {
      "text/latex": [
       "$\\displaystyle \\sqrt{2} \\sqrt{\\frac{F L \\cos{\\left(\\theta \\right)}}{m}}$"
      ],
      "text/plain": [
       "sqrt(2)*sqrt(F*L*cos(theta)/m)"
      ]
     },
     "metadata": {},
     "output_type": "display_data"
    }
   ],
   "source": [
    "# a)\n",
    "# Define the symbols\n",
    "L, m, F, theta = symbols('L m F theta')\n",
    "\n",
    "# Force in the x direction\n",
    "Fx = F*cos(theta)\n",
    "\n",
    "# Force in the y direction\n",
    "Fy = F*sin(theta)\n",
    "\n",
    "# Acceleration in the x direction\n",
    "ax = Fx/m\n",
    "\n",
    "# Acceleration in the y direction\n",
    "ay = Fy/m\n",
    "\n",
    "# speed when moved a distance L based on the x direction\n",
    "# assuming gravity is the opposite of the y direction force.\n",
    "# equation: v^2 = v0^2 + 2*(x-x_0)\n",
    "# Vi har v0 = 0 og x_0 = 0 -> v = sqrt(2*ax*L)\n",
    "v = sqrt(2*ax*L)\n",
    "print(\"The speed when moved a distance L is: \")\n",
    "display(v)"
   ]
  },
  {
   "cell_type": "code",
   "execution_count": 68,
   "metadata": {},
   "outputs": [
    {
     "name": "stdout",
     "output_type": "stream",
     "text": [
      "The speed when moved a distance L is: \n"
     ]
    },
    {
     "data": {
      "text/latex": [
       "$\\displaystyle \\sqrt{2} \\sqrt{\\frac{L \\left(F \\cos{\\left(\\theta \\right)} - \\mu_{k} \\left(- F \\sin{\\left(\\theta \\right)} + g m\\right)\\right)}{m}}$"
      ],
      "text/plain": [
       "sqrt(2)*sqrt(L*(F*cos(theta) - mu_k*(-F*sin(theta) + g*m))/m)"
      ]
     },
     "metadata": {},
     "output_type": "display_data"
    },
    {
     "name": "stdout",
     "output_type": "stream",
     "text": [
      "The given answer is: \n"
     ]
    },
    {
     "data": {
      "text/latex": [
       "$\\displaystyle \\sqrt{\\frac{L \\left(2 F \\left(\\mu_{k} \\sin{\\left(\\theta \\right)} + \\cos{\\left(\\theta \\right)}\\right) - 2 g m \\mu_{k}\\right)}{m}}$"
      ],
      "text/plain": [
       "sqrt(L*(2*F*(mu_k*sin(theta) + cos(theta)) - 2*g*m*mu_k)/m)"
      ]
     },
     "metadata": {},
     "output_type": "display_data"
    },
    {
     "name": "stdout",
     "output_type": "stream",
     "text": [
      "The two answers are equal: \n"
     ]
    },
    {
     "data": {
      "text/plain": [
       "True"
      ]
     },
     "metadata": {},
     "output_type": "display_data"
    }
   ],
   "source": [
    "# b)\n",
    "mu_k, g = symbols('mu_k g')\n",
    "\n",
    "# The frictional force\n",
    "Ff = mu_k*(m*g - Fy)\n",
    "\n",
    "# The acceleration in the x direction\n",
    "Fx = F*cos(theta) - Ff\n",
    "ax = (Fx)/m\n",
    "\n",
    "# The acceleration in the y direction\n",
    "ay = Fy/m\n",
    "\n",
    "# speed when moved a distance L based on the x direction\n",
    "# assuming gravity is the opposite of the y direction force.\n",
    "v = sqrt(2*ax*L)\n",
    "print(\"The speed when moved a distance L is: \")\n",
    "display(v)\n",
    "\n",
    "# Vi tjekker med de givetsvar\n",
    "print(\"The given answer is: \")\n",
    "v_given = sqrt((2*(F*(cos(theta) + mu_k*sin(theta)) - mu_k*m*g) * L)/m)\n",
    "display(v_given)\n",
    "\n",
    "# is equal to the calculated answer\n",
    "print(\"The two answers are equal: \")\n",
    "display(v.equals(v_given))\n"
   ]
  },
  {
   "cell_type": "markdown",
   "metadata": {},
   "source": [
    "# Problem 3\n",
    "![image.png](../../utils/work-and-energy/3.png)"
   ]
  },
  {
   "cell_type": "markdown",
   "metadata": {},
   "source": [
    "#### a)\n",
    "Vi har nu to krafter som påvirker $m_2$, en der trækker den ned:\n",
    "$$\n",
    "F_g = m_2*g\n",
    "$$\n",
    "Vi ved dog, at der ikke er nogen acceleration, så friction force må altså være:\n",
    "$$\n",
    "f = -m_2*g\n",
    "$$"
   ]
  },
  {
   "cell_type": "markdown",
   "metadata": {},
   "source": [
    "#### b)\n",
    "For dette kan vi se det som at de to krafter er modsatte, altså:\n",
    "$$\n",
    "F_g = -m_2*g\n",
    "$$\n",
    "$$\n",
    "f = m_2*g\n",
    "$$"
   ]
  },
  {
   "cell_type": "markdown",
   "metadata": {},
   "source": [
    "![image.png](../../utils/work-and-energy/4.png)"
   ]
  },
  {
   "cell_type": "code",
   "execution_count": 69,
   "metadata": {},
   "outputs": [
    {
     "name": "stdout",
     "output_type": "stream",
     "text": [
      "The work done by the totla force is: \n"
     ]
    },
    {
     "data": {
      "text/plain": [
       "187.5"
      ]
     },
     "metadata": {},
     "output_type": "display_data"
    },
    {
     "name": "stdout",
     "output_type": "stream",
     "text": [
      "The work done by gravity is: \n"
     ]
    },
    {
     "data": {
      "text/plain": [
       "589.2"
      ]
     },
     "metadata": {},
     "output_type": "display_data"
    },
    {
     "name": "stdout",
     "output_type": "stream",
     "text": [
      "The work done by the friction force is: \n"
     ]
    },
    {
     "data": {
      "text/plain": [
       "-401.70000000000005"
      ]
     },
     "metadata": {},
     "output_type": "display_data"
    }
   ],
   "source": [
    "# a)\n",
    "m = 5 # kg\n",
    "h = 12 # m\n",
    "v1 = 5 # m/s\n",
    "v2 = 10 # m/s\n",
    "l = 9.5 # m\n",
    "k = 1000 # N/m\n",
    "mu_k = 0.350\n",
    "g = 9.82 # m/s\n",
    "\n",
    "# when moving from 1 to 2\n",
    "# The cinatic energy can be calculated as:\n",
    "# E_k = 1/2*m*v^2\n",
    "E_k1 = 1/2*m*v1**2\n",
    "E_k2 = 1/2*m*v2**2\n",
    "\n",
    "# Now we can calculate the work done by the friction force\n",
    "W_tot = E_k2 - E_k1\n",
    "print(\"The work done by the totla force is: \")\n",
    "display(W_tot)\n",
    "\n",
    "# Calculate the work done by gravity\n",
    "W_g = m*g*h\n",
    "print(\"The work done by gravity is: \")\n",
    "display(W_g)\n",
    "\n",
    "# Then the work done by the friction force is\n",
    "# The total work done minus the work done by gravity\n",
    "W_f = W_tot - W_g\n",
    "print(\"The work done by the friction force is: \")\n",
    "display(W_f)\n"
   ]
  },
  {
   "cell_type": "code",
   "execution_count": 70,
   "metadata": {},
   "outputs": [
    {
     "name": "stdout",
     "output_type": "stream",
     "text": [
      "The speed when reaching the spring is: \n"
     ]
    },
    {
     "data": {
      "text/latex": [
       "$\\displaystyle 5.89041594456622$"
      ],
      "text/plain": [
       "5.89041594456622"
      ]
     },
     "metadata": {},
     "output_type": "display_data"
    }
   ],
   "source": [
    "# b)\n",
    "# We now travel from 2 to 3 right before we hit the spring\n",
    "# As we are not moving downwards, the work done by gravity is 0\n",
    "# The only work done is by the friction force that is slowing down the object\n",
    "# we can determine the speed after traveling the distance l\n",
    "# by using the work-energy principle\n",
    "# Ff = mu_k*m*g\n",
    "# W = mu_k*m*g*l\n",
    "# E_k2 - E_k3 = mu_k*m*g*l\n",
    "# 1/2*m*v2^2 - 1/2*m*v3^2 = mu_k*m*g*l\n",
    "# v3 = sqrt(v2^2 - 2*mu_k*g*l)\n",
    "v3 = sqrt(v2**2 - 2*mu_k*g*l)\n",
    "print(\"The speed when reaching the spring is: \")\n",
    "display(v3)"
   ]
  },
  {
   "cell_type": "code",
   "execution_count": null,
   "metadata": {},
   "outputs": [
    {
     "data": {
      "text/plain": [
       "[-0.286053611558001, 0.303238611558001]"
      ]
     },
     "execution_count": 81,
     "metadata": {},
     "output_type": "execute_result"
    }
   ],
   "source": [
    "# c)\n",
    "# To calculate the maximum compression of the spring\n",
    "# we can use the knowledge that when we reach a maximum compression\n",
    "# the speed is 0\n",
    "\n",
    "# The spring constant is 1000 N/m\n",
    "# The spring force is F_s = k*d\n",
    "d = symbols('d')\n",
    "F_s = k*d\n",
    "F_mu = mu_k*m*g\n",
    "\n",
    "# The total force stopping the box is\n",
    "F_stop = F_s + F_mu\n",
    "\n",
    "# We now need to solve how far we get before the for stops the box\n",
    "# with a starting speed of v3.\n",
    "E_k3 = 1/2*m*v3**2\n",
    "solve(E_k3 - F_stop * d, d)\n"
   ]
  },
  {
   "cell_type": "code",
   "execution_count": null,
   "metadata": {},
   "outputs": [],
   "source": []
  }
 ],
 "metadata": {
  "kernelspec": {
   "display_name": "Python 3",
   "language": "python",
   "name": "python3"
  },
  "language_info": {
   "codemirror_mode": {
    "name": "ipython",
    "version": 3
   },
   "file_extension": ".py",
   "mimetype": "text/x-python",
   "name": "python",
   "nbconvert_exporter": "python",
   "pygments_lexer": "ipython3",
   "version": "3.11.10"
  }
 },
 "nbformat": 4,
 "nbformat_minor": 2
}
