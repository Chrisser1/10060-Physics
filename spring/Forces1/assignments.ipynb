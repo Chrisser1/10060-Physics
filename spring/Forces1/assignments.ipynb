{
 "cells": [
  {
   "cell_type": "code",
   "execution_count": 34,
   "metadata": {},
   "outputs": [],
   "source": [
    "from sympy import *\n",
    "init_printing()"
   ]
  },
  {
   "cell_type": "markdown",
   "metadata": {},
   "source": [
    "# Problem 1\n",
    "![image.png](../../utils/forces-assignments-images/1-1.png)"
   ]
  },
  {
   "cell_type": "markdown",
   "metadata": {},
   "source": [
    "## a)"
   ]
  },
  {
   "cell_type": "markdown",
   "metadata": {},
   "source": [
    "![image.png](../../utils/images/forcediagram1.png)"
   ]
  },
  {
   "cell_type": "markdown",
   "metadata": {},
   "source": [
    "## b)\n"
   ]
  },
  {
   "cell_type": "code",
   "execution_count": 35,
   "metadata": {},
   "outputs": [
    {
     "data": {
      "image/png": "[encoded data removed]",
      "text/latex": [
       "$\\displaystyle \\left[ \\frac{F \\cos{\\left(\\theta \\right)}}{m}\\right]$"
      ],
      "text/plain": [
       "⎡F⋅cos(θ)⎤\n",
       "⎢────────⎥\n",
       "⎣   m    ⎦"
      ]
     },
     "execution_count": 35,
     "metadata": {},
     "output_type": "execute_result"
    }
   ],
   "source": [
    "# Definer symboler\n",
    "m, a, theta, F = symbols('m a theta F')\n",
    "\n",
    "# Kraftrelationer\n",
    "F_x = F * cos(theta)\n",
    "\n",
    "# Newtons anden lov i x-retningen\n",
    "eq1 = Eq(F_x, m * a)\n",
    "\n",
    "# Løs for a\n",
    "solution = solve(eq1, a)\n",
    "solution"
   ]
  },
  {
   "cell_type": "markdown",
   "metadata": {},
   "source": [
    "## c)"
   ]
  },
  {
   "cell_type": "code",
   "execution_count": 36,
   "metadata": {},
   "outputs": [
    {
     "data": {
      "image/png": "[encoded data removed]",
      "text/latex": [
       "$\\displaystyle - F \\sin{\\left(\\theta \\right)} + g m$"
      ],
      "text/plain": [
       "-F⋅sin(θ) + g⋅m"
      ]
     },
     "execution_count": 36,
     "metadata": {},
     "output_type": "execute_result"
    }
   ],
   "source": [
    "# Definer symboler\n",
    "m, g, theta, F = symbols('m g theta F')\n",
    "\n",
    "# Kraftrelationer\n",
    "normal_force = F * sin(theta)\n",
    "\n",
    "normal_force = m * g - normal_force\n",
    "normal_force"
   ]
  },
  {
   "cell_type": "markdown",
   "metadata": {},
   "source": [
    "# Problem 2\n",
    "![image.png](../../utils/forces-assignments-images/1-2.png)"
   ]
  },
  {
   "cell_type": "markdown",
   "metadata": {},
   "source": [
    "# a)"
   ]
  },
  {
   "cell_type": "code",
   "execution_count": 37,
   "metadata": {},
   "outputs": [
    {
     "data": {
      "image/png": "[encoded data removed]",
      "text/latex": [
       "$\\displaystyle \\frac{F - g m_{A} - g m_{B}}{m_{A} + m_{B}}$"
      ],
      "text/plain": [
       "F - g⋅m_A - g⋅m_B\n",
       "─────────────────\n",
       "    m_A + m_B    "
      ]
     },
     "execution_count": 37,
     "metadata": {},
     "output_type": "execute_result"
    }
   ],
   "source": [
    "# Define symbols\n",
    "m_A, m_B, a, F, g, T = symbols('m_A m_B a F g T')\n",
    "\n",
    "# Define the equation for Newton's second law\n",
    "resulting_force = F - (g * m_A + g * m_B)\n",
    "eq1 = Eq(m_A * a + m_B * a, resulting_force)\n",
    "\n",
    "# Solve for acceleration 'a'\n",
    "solution = solve(eq1, a)\n",
    "\n",
    "# Simplify the result\n",
    "a = simplify(solution[0])\n",
    "a"
   ]
  },
  {
   "cell_type": "markdown",
   "metadata": {},
   "source": [
    "This can be written as:\n",
    "$$\n",
    "\\frac{F}{m_A+m_B}-g\n",
    "$$"
   ]
  },
  {
   "cell_type": "markdown",
   "metadata": {},
   "source": [
    "## b)"
   ]
  },
  {
   "cell_type": "code",
   "execution_count": 38,
   "metadata": {},
   "outputs": [
    {
     "name": "stdout",
     "output_type": "stream",
     "text": [
      "Tension (T) in terms of given variables:\n"
     ]
    },
    {
     "data": {
      "image/png": "[encoded data removed]",
      "text/latex": [
       "$\\displaystyle \\frac{F m_{B}}{m_{A} + m_{B}}$"
      ],
      "text/plain": [
       "  F⋅m_B  \n",
       "─────────\n",
       "m_A + m_B"
      ]
     },
     "execution_count": 38,
     "metadata": {},
     "output_type": "execute_result"
    }
   ],
   "source": [
    "# Equations for the two blocks\n",
    "eq1 = Eq(T-m_B*g, m_B*a)\n",
    "\n",
    "# Solve for T\n",
    "tension_solution = solve(eq1, T)[0]  # Solve using m_A's equation\n",
    "print(\"Tension (T) in terms of given variables:\")\n",
    "tension_solution"
   ]
  },
  {
   "cell_type": "markdown",
   "metadata": {},
   "source": [
    "## c)"
   ]
  },
  {
   "cell_type": "code",
   "execution_count": 39,
   "metadata": {},
   "outputs": [
    {
     "data": {
      "image/png": "[encoded data removed]",
      "text/latex": [
       "$\\displaystyle -3.81$"
      ],
      "text/plain": [
       "-3.81000000000000"
      ]
     },
     "execution_count": 39,
     "metadata": {},
     "output_type": "execute_result"
    }
   ],
   "source": [
    "a.subs({F: 30, m_A: 3, m_B: 2, g: 9.81})"
   ]
  },
  {
   "cell_type": "markdown",
   "metadata": {},
   "source": [
    "# Problem 3\n",
    "![image.png](../../utils/forces-assignments-images/1-3.png)"
   ]
  },
  {
   "cell_type": "markdown",
   "metadata": {},
   "source": [
    "## a)"
   ]
  },
  {
   "cell_type": "code",
   "execution_count": 40,
   "metadata": {},
   "outputs": [
    {
     "data": {
      "image/png": "[encoded data removed]",
      "text/latex": [
       "$\\displaystyle 3.0$"
      ],
      "text/plain": [
       "3.0"
      ]
     },
     "execution_count": 40,
     "metadata": {},
     "output_type": "execute_result"
    }
   ],
   "source": [
    "m = 2\n",
    "# For the first slope\n",
    "v_1 = 0\n",
    "v_2 = 3\n",
    "t_1 = 0\n",
    "t_2 = 2\n",
    "\n",
    "a = (v_2 - v_1) / (t_2 - t_1)\n",
    "m*a"
   ]
  },
  {
   "cell_type": "code",
   "execution_count": 41,
   "metadata": {},
   "outputs": [
    {
     "data": {
      "image/png": "[encoded data removed]",
      "text/latex": [
       "$\\displaystyle 4.0$"
      ],
      "text/plain": [
       "4.0"
      ]
     },
     "execution_count": 41,
     "metadata": {},
     "output_type": "execute_result"
    }
   ],
   "source": [
    "# For the second slope\n",
    "v_1 = 3\n",
    "v_2 = 11\n",
    "t_1 = 6\n",
    "t_2 = 10\n",
    "\n",
    "a = (v_2 - v_1) / (t_2 - t_1)\n",
    "m*a"
   ]
  },
  {
   "cell_type": "markdown",
   "metadata": {},
   "source": [
    "## b)\n",
    "2-6"
   ]
  },
  {
   "cell_type": "markdown",
   "metadata": {},
   "source": [
    "## c)\n",
    "3"
   ]
  },
  {
   "cell_type": "markdown",
   "metadata": {},
   "source": [
    "# Problem 4\n",
    "![image.png](../../utils/forces-assignments-images/1-4.png)"
   ]
  },
  {
   "cell_type": "markdown",
   "metadata": {},
   "source": [
    "## Answer is F)"
   ]
  },
  {
   "cell_type": "markdown",
   "metadata": {},
   "source": [
    "# Problem 5\n",
    "![image.png](../../utils/forces-assignments-images/1-5.png)"
   ]
  },
  {
   "cell_type": "markdown",
   "metadata": {},
   "source": [
    "## a)\n",
    "![image.png](../../utils/images/forcediagram2.png)"
   ]
  },
  {
   "cell_type": "markdown",
   "metadata": {},
   "source": [
    "## b)"
   ]
  },
  {
   "cell_type": "code",
   "execution_count": null,
   "metadata": {},
   "outputs": [
    {
     "data": {
      "image/png": "[encoded data removed]",
      "text/latex": [
       "$\\displaystyle \\left\\{ a : \\frac{F \\cos{\\left(\\theta \\right)}}{m} - g \\sin{\\left(\\theta \\right)}\\right\\}$"
      ],
      "text/plain": [
       "⎧   F⋅cos(θ)           ⎫\n",
       "⎨a: ──────── - g⋅sin(θ)⎬\n",
       "⎩      m               ⎭"
      ]
     },
     "execution_count": 43,
     "metadata": {},
     "output_type": "execute_result"
    }
   ],
   "source": [
    "# Define symbols\n",
    "a, m, g, theta, F = symbols('a m g theta F')\n",
    "incline_force = F * cos(theta)\n",
    "oposing_force = m * g * sin(theta)\n",
    "eq1 = Eq(incline_force - oposing_force, m * a)\n",
    "solution = solve([eq1], [a, F])\n",
    "solution"
   ]
  },
  {
   "cell_type": "markdown",
   "metadata": {},
   "source": [
    "## c)"
   ]
  },
  {
   "cell_type": "code",
   "execution_count": 45,
   "metadata": {},
   "outputs": [
    {
     "data": {
      "image/png": "[encoded data removed]",
      "text/latex": [
       "$\\displaystyle - F \\sin{\\left(\\theta \\right)} + g m \\cos{\\left(\\theta \\right)}$"
      ],
      "text/plain": [
       "-F⋅sin(θ) + g⋅m⋅cos(θ)"
      ]
     },
     "execution_count": 45,
     "metadata": {},
     "output_type": "execute_result"
    }
   ],
   "source": [
    "# Define symbols\n",
    "m, g, theta, F, N = symbols('m g theta F N')\n",
    "\n",
    "# Expression for the normal force\n",
    "normal_force = m * g * cos(theta) - F * sin(theta)\n",
    "normal_force"
   ]
  }
 ],
 "metadata": {
  "kernelspec": {
   "display_name": "Python 3",
   "language": "python",
   "name": "python3"
  },
  "language_info": {
   "codemirror_mode": {
    "name": "ipython",
    "version": 3
   },
   "file_extension": ".py",
   "mimetype": "text/x-python",
   "name": "python",
   "nbconvert_exporter": "python",
   "pygments_lexer": "ipython3",
   "version": "3.11.10"
  }
 },
 "nbformat": 4,
 "nbformat_minor": 2
}
