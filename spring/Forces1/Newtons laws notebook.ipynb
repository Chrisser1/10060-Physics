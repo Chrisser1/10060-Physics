{
 "cells": [
  {
   "cell_type": "markdown",
   "id": "4e03a27d",
   "metadata": {},
   "source": [
    "### Examples of solution of Newton's laws problems\n",
    "\n"
   ]
  },
  {
   "cell_type": "markdown",
   "metadata": {},
   "source": [
    "#### Problem\n",
    "\n",
    "The equations of motion are\n",
    "\n",
    ">$Ma=Mg-S\\\\$\n",
    ">$ma=S-mg$\n",
    "\n",
    "We pick the positive direction downwards for the $M$ box, and upwards for the $m$ box.\n",
    "\n",
    "\n",
    ">a) Solve for the acceleration and tension in the Atwood machine.\n",
    "\n",
    ">b) Determine the solution when $M=1.0$ kg, $m=0.10$ kg, and $g=9.82 \\text{m/s}^2$.\n",
    "\n",
    "We use the Sympy method solve to solve the algebraic equations from Newton's second law of motion. \n",
    "The function takes two arguments, an array of equations and an array of variables to solve for. \n",
    "There should be the same number of equations and unknowns."
   ]
  },
  {
   "cell_type": "code",
   "execution_count": 1,
   "metadata": {},
   "outputs": [
    {
     "data": {
      "image/png": "[encoded data removed]",
      "text/plain": [
       "<Figure size 400x400 with 1 Axes>"
      ]
     },
     "metadata": {},
     "output_type": "display_data"
    }
   ],
   "source": [
    "import numpy as np\n",
    "import matplotlib.pyplot as plt\n",
    "t = np.linspace(0,2*np.pi,100)\n",
    "x = np.cos(t)\n",
    "y = 3 + np.sin(t)\n",
    "plt.figure(figsize=(4,4))\n",
    "plt.plot(x,y,'k-')\n",
    "plt.plot([0.7,1.3,1.3,0.7,0.7],[0.6,0.6,1.2,1.2,0.6],'b-')\n",
    "plt.plot([1.0,1.0],[1.2,3.0],'k-')\n",
    "plt.plot([-0.8,-1.2,-1.2,-0.8,-0.8],[0.6,0.6,1.0,1.0,0.6],'b-')\n",
    "plt.plot([-1.0,-1.0],[1.0,3.0],'k-')\n",
    "plt.text(0.91,0.83,'$M$')\n",
    "plt.text(-1.11,0.77,'$m$')\n",
    "plt.axis('scaled')\n",
    "plt.axis('off')\n",
    "plt.show()"
   ]
  },
  {
   "cell_type": "code",
   "execution_count": 2,
   "id": "ab96a307",
   "metadata": {},
   "outputs": [
    {
     "name": "stdout",
     "output_type": "stream",
     "text": [
      "a)\n",
      "Equations:\n"
     ]
    },
    {
     "data": {
      "text/latex": [
       "$\\displaystyle M a = M g - T$"
      ],
      "text/plain": [
       "Eq(M*a, M*g - T)"
      ]
     },
     "metadata": {},
     "output_type": "display_data"
    },
    {
     "data": {
      "text/latex": [
       "$\\displaystyle a m = T - g m$"
      ],
      "text/plain": [
       "Eq(a*m, T - g*m)"
      ]
     },
     "metadata": {},
     "output_type": "display_data"
    },
    {
     "name": "stdout",
     "output_type": "stream",
     "text": [
      "Solution:\n"
     ]
    },
    {
     "data": {
      "text/plain": [
       "{T: 2*M*g*m/(M + m), a: (M*g - g*m)/(M + m)}"
      ]
     },
     "metadata": {},
     "output_type": "display_data"
    },
    {
     "data": {
      "text/latex": [
       "$\\displaystyle \\frac{M g - g m}{M + m}$"
      ],
      "text/plain": [
       "(M*g - g*m)/(M + m)"
      ]
     },
     "metadata": {},
     "output_type": "display_data"
    },
    {
     "data": {
      "text/latex": [
       "$\\displaystyle \\frac{2 M g m}{M + m}$"
      ],
      "text/plain": [
       "2*M*g*m/(M + m)"
      ]
     },
     "metadata": {},
     "output_type": "display_data"
    }
   ],
   "source": [
    "from sympy import symbols,solve,Eq\n",
    "print('a)')\n",
    "M,m,a,T,g = symbols('M,m,a,T,g')\n",
    "eq1 = Eq(M*a,M*g-T)\n",
    "eq2 = Eq(m*a,T-m*g)\n",
    "print('Equations:')\n",
    "display(eq1)\n",
    "display(eq2)\n",
    "sol = solve([eq1,eq2],[a,T])\n",
    "print('Solution:')\n",
    "display(sol)\n",
    "display(sol[a])\n",
    "display(sol[T])"
   ]
  },
  {
   "cell_type": "markdown",
   "id": "e0998b21",
   "metadata": {},
   "source": [
    "It is possible to request a simplified solution. In this case there isn't that much simplification possible."
   ]
  },
  {
   "cell_type": "code",
   "execution_count": 3,
   "id": "d07a15bd",
   "metadata": {},
   "outputs": [
    {
     "name": "stdout",
     "output_type": "stream",
     "text": [
      "Equations:\n"
     ]
    },
    {
     "data": {
      "text/latex": [
       "$\\displaystyle M a = M g - T$"
      ],
      "text/plain": [
       "Eq(M*a, M*g - T)"
      ]
     },
     "metadata": {},
     "output_type": "display_data"
    },
    {
     "data": {
      "text/latex": [
       "$\\displaystyle a m = T - g m$"
      ],
      "text/plain": [
       "Eq(a*m, T - g*m)"
      ]
     },
     "metadata": {},
     "output_type": "display_data"
    },
    {
     "name": "stdout",
     "output_type": "stream",
     "text": [
      "Solution:\n"
     ]
    },
    {
     "data": {
      "text/plain": [
       "{T: 2*M*g*m/(M + m), a: g*(M - m)/(M + m)}"
      ]
     },
     "metadata": {},
     "output_type": "display_data"
    },
    {
     "data": {
      "text/latex": [
       "$\\displaystyle \\frac{g \\left(M - m\\right)}{M + m}$"
      ],
      "text/plain": [
       "g*(M - m)/(M + m)"
      ]
     },
     "metadata": {},
     "output_type": "display_data"
    },
    {
     "data": {
      "text/latex": [
       "$\\displaystyle \\frac{2 M g m}{M + m}$"
      ],
      "text/plain": [
       "2*M*g*m/(M + m)"
      ]
     },
     "metadata": {},
     "output_type": "display_data"
    }
   ],
   "source": [
    "from sympy import symbols,solve,Eq\n",
    "M,m,a,T,g = symbols('M,m,a,T,g')\n",
    "eq1 = Eq(M*a,M*g-T)\n",
    "eq2 = Eq(m*a,T-m*g)\n",
    "print('Equations:')\n",
    "display(eq1)\n",
    "display(eq2)\n",
    "sol = solve([eq1,eq2],[a,T],simplify=True)\n",
    "print('Solution:')\n",
    "display(sol)\n",
    "display(sol[a])\n",
    "display(sol[T])"
   ]
  },
  {
   "cell_type": "markdown",
   "id": "fc9ac1c8",
   "metadata": {},
   "source": [
    "It is possible to return the solution in different forms. The first return a dictionary that allows us to extract solutions by name, the second gives a list of names and solutions."
   ]
  },
  {
   "cell_type": "code",
   "execution_count": 4,
   "id": "98c09e69",
   "metadata": {},
   "outputs": [
    {
     "name": "stdout",
     "output_type": "stream",
     "text": [
      "Equations:\n"
     ]
    },
    {
     "data": {
      "text/latex": [
       "$\\displaystyle M a = M g - T$"
      ],
      "text/plain": [
       "Eq(M*a, M*g - T)"
      ]
     },
     "metadata": {},
     "output_type": "display_data"
    },
    {
     "data": {
      "text/latex": [
       "$\\displaystyle a m = T - g m$"
      ],
      "text/plain": [
       "Eq(a*m, T - g*m)"
      ]
     },
     "metadata": {},
     "output_type": "display_data"
    },
    {
     "name": "stdout",
     "output_type": "stream",
     "text": [
      "Solution:\n"
     ]
    },
    {
     "data": {
      "text/plain": [
       "[{T: 2*M*g*m/(M + m), a: (M*g - g*m)/(M + m)}]"
      ]
     },
     "metadata": {},
     "output_type": "display_data"
    },
    {
     "data": {
      "text/latex": [
       "$\\displaystyle \\frac{M g - g m}{M + m}$"
      ],
      "text/plain": [
       "(M*g - g*m)/(M + m)"
      ]
     },
     "metadata": {},
     "output_type": "display_data"
    },
    {
     "data": {
      "text/latex": [
       "$\\displaystyle \\frac{2 M g m}{M + m}$"
      ],
      "text/plain": [
       "2*M*g*m/(M + m)"
      ]
     },
     "metadata": {},
     "output_type": "display_data"
    }
   ],
   "source": [
    "from sympy import symbols,solve,Eq\n",
    "M,m,a,T,g = symbols('M,m,a,T,g')\n",
    "eq1 = Eq(M*a,M*g-T)\n",
    "eq2 = Eq(m*a,T-m*g)\n",
    "print('Equations:')\n",
    "display(eq1)\n",
    "display(eq2)\n",
    "sol = solve([eq1,eq2],[a,T],dict=True)\n",
    "print('Solution:')\n",
    "display(sol)\n",
    "display(sol[0][a])\n",
    "display(sol[0][T])"
   ]
  },
  {
   "cell_type": "markdown",
   "id": "2258c428",
   "metadata": {},
   "source": [
    "The solution is\n",
    "$a=\\frac{\\left(M-m\\right)g}{M+m}$ and $T=\\frac{2Mmg}{M+m}$."
   ]
  },
  {
   "cell_type": "markdown",
   "id": "bccfb4c2",
   "metadata": {},
   "source": [
    "We can add numerical values for parameters to obtain a numerical solution by adding an equation for each value.\n",
    "We use the additional parameter *set=True* to get both the parameters and values out. \n",
    "Here we add equations for the parameters with values."
   ]
  },
  {
   "cell_type": "code",
   "execution_count": 5,
   "id": "d3ef7e9a",
   "metadata": {},
   "outputs": [
    {
     "name": "stdout",
     "output_type": "stream",
     "text": [
      "b)\n"
     ]
    },
    {
     "data": {
      "text/plain": [
       "([a, T, m, M, g],\n",
       " {(8.03454545454546,\n",
       "   1.78545454545455,\n",
       "   0.100000000000000,\n",
       "   1.00000000000000,\n",
       "   9.82000000000000)})"
      ]
     },
     "metadata": {},
     "output_type": "display_data"
    }
   ],
   "source": [
    "from sympy import symbols,solve,Eq\n",
    "M,m,a,T,g = symbols('M,m,a,T,g')\n",
    "print('b)')\n",
    "sol = solve([Eq(M,1.0),Eq(m,0.1),Eq(g,9.82),Eq(M*a,M*g-T),Eq(m*a,T-m*g)],[a,T,m,M,g],set=True)\n",
    "display(sol)"
   ]
  },
  {
   "cell_type": "markdown",
   "metadata": {},
   "source": [
    "Here we substitute values into the symbolic solutions."
   ]
  },
  {
   "cell_type": "code",
   "execution_count": 6,
   "metadata": {},
   "outputs": [
    {
     "name": "stdout",
     "output_type": "stream",
     "text": [
      "Equations:\n"
     ]
    },
    {
     "data": {
      "text/latex": [
       "$\\displaystyle M a = M g - T$"
      ],
      "text/plain": [
       "Eq(M*a, M*g - T)"
      ]
     },
     "metadata": {},
     "output_type": "display_data"
    },
    {
     "data": {
      "text/latex": [
       "$\\displaystyle a m = T - g m$"
      ],
      "text/plain": [
       "Eq(a*m, T - g*m)"
      ]
     },
     "metadata": {},
     "output_type": "display_data"
    },
    {
     "name": "stdout",
     "output_type": "stream",
     "text": [
      "Solution:\n"
     ]
    },
    {
     "data": {
      "text/plain": [
       "{T: 2*M*g*m/(M + m), a: g*(M - m)/(M + m)}"
      ]
     },
     "metadata": {},
     "output_type": "display_data"
    },
    {
     "data": {
      "text/latex": [
       "$\\displaystyle \\frac{g \\left(M - m\\right)}{M + m}$"
      ],
      "text/plain": [
       "g*(M - m)/(M + m)"
      ]
     },
     "metadata": {},
     "output_type": "display_data"
    },
    {
     "data": {
      "text/latex": [
       "$\\displaystyle \\frac{2 M g m}{M + m}$"
      ],
      "text/plain": [
       "2*M*g*m/(M + m)"
      ]
     },
     "metadata": {},
     "output_type": "display_data"
    },
    {
     "data": {
      "text/latex": [
       "$\\displaystyle 8.03454545454546$"
      ],
      "text/plain": [
       "8.03454545454546"
      ]
     },
     "metadata": {},
     "output_type": "display_data"
    },
    {
     "data": {
      "text/latex": [
       "$\\displaystyle 1.78545454545455$"
      ],
      "text/plain": [
       "1.78545454545455"
      ]
     },
     "metadata": {},
     "output_type": "display_data"
    }
   ],
   "source": [
    "from sympy import symbols,solve,Eq\n",
    "M,m,a,T,g = symbols('M,m,a,T,g')\n",
    "eq1 = Eq(M*a,M*g-T)\n",
    "eq2 = Eq(m*a,T-m*g)\n",
    "print('Equations:')\n",
    "display(eq1)\n",
    "display(eq2)\n",
    "sol = solve([eq1,eq2],[a,T],simplify=True)\n",
    "print('Solution:')\n",
    "display(sol)\n",
    "display(sol[a])\n",
    "display(sol[T])\n",
    "display(sol[a].subs({M:1.0,m:0.1,g:9.82}))\n",
    "display(sol[T].subs({M:1.0,m:0.1,g:9.82}))"
   ]
  },
  {
   "cell_type": "markdown",
   "metadata": {},
   "source": [
    "#### Problem\n",
    "\n",
    "Two boxes with masses $M$ and $m$ stand on a floor. \n",
    "The left box is pushed by a constant, horizontal force, $F$.\n",
    "The floor surface is smooth.\n",
    "\n",
    ">a) Determine the acceleration of the boxes.\n",
    "\n",
    ">b) Determine the force between the boxes.\n",
    "\n",
    "\n",
    "For the full system Newton's second law is\n",
    "\n",
    "$\\left(M+m\\right)a=F$\n",
    "\n",
    "Dividing the system into two subsystems leads to two Newton's second law, and Newton's third law for the forces between the boxes.\n",
    "\n",
    "$Ma=F-N_{mM}$\n",
    "\n",
    "$ma=N_{Mm}$\n",
    "\n",
    "$N_{Mm}=N_{mM}$"
   ]
  },
  {
   "cell_type": "code",
   "execution_count": 7,
   "metadata": {},
   "outputs": [
    {
     "data": {
      "image/png": "[encoded data removed]",
      "text/plain": [
       "<Figure size 400x400 with 1 Axes>"
      ]
     },
     "metadata": {},
     "output_type": "display_data"
    }
   ],
   "source": [
    "import numpy as np\n",
    "import matplotlib.pyplot as plt\n",
    "plt.figure(figsize=(4,4))\n",
    "plt.plot([0.0,3.0],[0.0,0.0],'k-')\n",
    "plt.plot([1.0,1.5,1.5,1.0,1.0],[0.0,0.0,1.0,1.0,0.0],'b-')\n",
    "plt.plot([1.52,2.0,2.0,1.52,1.52],[0.0,0.0,0.7,0.7,0.0],'r-')\n",
    "plt.text(1.15,0.5,'$M$')\n",
    "plt.text(1.65,0.5,'$m$')\n",
    "plt.axis('scaled')\n",
    "plt.axis('off')\n",
    "plt.show()"
   ]
  },
  {
   "cell_type": "code",
   "execution_count": 8,
   "metadata": {},
   "outputs": [
    {
     "name": "stdout",
     "output_type": "stream",
     "text": [
      "a)\n",
      "Equation:\n"
     ]
    },
    {
     "data": {
      "text/latex": [
       "$\\displaystyle a \\left(M + m\\right) = F$"
      ],
      "text/plain": [
       "Eq(a*(M + m), F)"
      ]
     },
     "metadata": {},
     "output_type": "display_data"
    },
    {
     "name": "stdout",
     "output_type": "stream",
     "text": [
      "Solution:\n"
     ]
    },
    {
     "data": {
      "text/plain": [
       "[F/(M + m)]"
      ]
     },
     "metadata": {},
     "output_type": "display_data"
    },
    {
     "data": {
      "text/latex": [
       "$\\displaystyle \\frac{F}{M + m}$"
      ],
      "text/plain": [
       "F/(M + m)"
      ]
     },
     "metadata": {},
     "output_type": "display_data"
    }
   ],
   "source": [
    "from sympy import symbols,solve,Eq\n",
    "print('a)')\n",
    "M,m,a,F = symbols('M,m,a,F')\n",
    "eq1 = Eq((M+m)*a,F)\n",
    "print('Equation:')\n",
    "display(eq1)\n",
    "sol = solve(eq1,a,simplify=True)\n",
    "print('Solution:')\n",
    "display(sol)\n",
    "display(sol[0])"
   ]
  },
  {
   "cell_type": "code",
   "execution_count": 9,
   "metadata": {},
   "outputs": [
    {
     "name": "stdout",
     "output_type": "stream",
     "text": [
      "b)\n",
      "Equations:\n"
     ]
    },
    {
     "data": {
      "text/latex": [
       "$\\displaystyle M a = F - N_{mM}$"
      ],
      "text/plain": [
       "Eq(M*a, F - N_mM)"
      ]
     },
     "metadata": {},
     "output_type": "display_data"
    },
    {
     "data": {
      "text/latex": [
       "$\\displaystyle a m = N_{Mm}$"
      ],
      "text/plain": [
       "Eq(a*m, N_Mm)"
      ]
     },
     "metadata": {},
     "output_type": "display_data"
    },
    {
     "data": {
      "text/latex": [
       "$\\displaystyle N_{Mm} = N_{mM}$"
      ],
      "text/plain": [
       "Eq(N_Mm, N_mM)"
      ]
     },
     "metadata": {},
     "output_type": "display_data"
    },
    {
     "name": "stdout",
     "output_type": "stream",
     "text": [
      "Solutions:\n"
     ]
    },
    {
     "data": {
      "text/plain": [
       "{N_Mm: F*m/(M + m), N_mM: F*m/(M + m), a: F/(M + m)}"
      ]
     },
     "metadata": {},
     "output_type": "display_data"
    },
    {
     "data": {
      "text/latex": [
       "$\\displaystyle \\frac{F}{M + m}$"
      ],
      "text/plain": [
       "F/(M + m)"
      ]
     },
     "metadata": {},
     "output_type": "display_data"
    },
    {
     "data": {
      "text/latex": [
       "$\\displaystyle \\frac{F m}{M + m}$"
      ],
      "text/plain": [
       "F*m/(M + m)"
      ]
     },
     "metadata": {},
     "output_type": "display_data"
    },
    {
     "data": {
      "text/latex": [
       "$\\displaystyle \\frac{F m}{M + m}$"
      ],
      "text/plain": [
       "F*m/(M + m)"
      ]
     },
     "metadata": {},
     "output_type": "display_data"
    }
   ],
   "source": [
    "from sympy import symbols,solve,Eq\n",
    "print('b)')\n",
    "M,m,a,F,NMm,NmM = symbols('M,m,a,F,N_Mm,N_mM')\n",
    "eq1 = Eq(M*a,F-NmM)\n",
    "eq2 = Eq(m*a,NMm)\n",
    "eq3 = Eq(NMm,NmM)\n",
    "print('Equations:')\n",
    "display(eq1)\n",
    "display(eq2)\n",
    "display(eq3)\n",
    "sol = solve([eq1,eq2,eq3],[a,NMm,NmM],simplify=True)\n",
    "print('Solutions:')\n",
    "display(sol)\n",
    "display(sol[a])\n",
    "display(sol[NMm])\n",
    "display(sol[NmM])"
   ]
  },
  {
   "cell_type": "markdown",
   "metadata": {},
   "source": [
    "#### Problem\n",
    "\n",
    "A box is placed on an inclined plane. The mass of the box is $m$, the acceleration along the inclined plane is $a$,\n",
    "the angle of the inclined plan with respect to horizontalis $\\theta$,\n",
    "the kinematic coefficient of friction is $\\mu_k$,\n",
    "the static coefficient of friction is $\\mu_s$, and\n",
    "$g$ is the acceleration of gravity.\n",
    "\n",
    ">a) Determine the acceleration and the normal force when the box slides down the inclined plane.\n",
    "\n",
    ">b) Determine the normal force and the static friction force when the box is at rest on the inclined plane.\n",
    "\n",
    ">c) Determine an inequality that $\\mu_s$ must satisfy for the box to be at rest on the inclided plane."
   ]
  },
  {
   "cell_type": "code",
   "execution_count": 10,
   "metadata": {},
   "outputs": [
    {
     "data": {
      "image/png": "[encoded data removed]",
      "text/plain": [
       "<Figure size 640x480 with 1 Axes>"
      ]
     },
     "metadata": {},
     "output_type": "display_data"
    }
   ],
   "source": [
    "import numpy as np\n",
    "import matplotlib.pyplot as plt\n",
    "theta = 30.0*np.pi/180.0\n",
    "x = np.linspace(0,4,100)\n",
    "y = np.tan(theta)*np.linspace(0,4,100)\n",
    "plt.figure()\n",
    "plt.plot(x,0*x,'b-')\n",
    "plt.plot(x,y,'b-')\n",
    "plt.plot([x[-1],x[-1]],[y[0],y[-1]],'b-')\n",
    "xbox = np.array([0,1,1,0,0])\n",
    "ybox = np.array([0,0,1,1,0])\n",
    "plt.plot(3+np.cos(theta)*xbox-np.sin(theta)*ybox,1.76+np.sin(theta)*xbox+np.cos(theta)*ybox,'r-')\n",
    "plt.axis('scaled')\n",
    "plt.show()\n"
   ]
  },
  {
   "cell_type": "code",
   "execution_count": 11,
   "metadata": {},
   "outputs": [
    {
     "name": "stdout",
     "output_type": "stream",
     "text": [
      "a)\n",
      "Equations:\n"
     ]
    },
    {
     "data": {
      "text/latex": [
       "$\\displaystyle a m = g m \\sin{\\left(\\theta \\right)} - \\mu_{k} n$"
      ],
      "text/plain": [
       "Eq(a*m, g*m*sin(theta) - mu_k*n)"
      ]
     },
     "metadata": {},
     "output_type": "display_data"
    },
    {
     "data": {
      "text/latex": [
       "$\\displaystyle - g m \\cos{\\left(\\theta \\right)} + n = 0$"
      ],
      "text/plain": [
       "Eq(-g*m*cos(theta) + n, 0)"
      ]
     },
     "metadata": {},
     "output_type": "display_data"
    },
    {
     "name": "stdout",
     "output_type": "stream",
     "text": [
      "Solution:\n"
     ]
    },
    {
     "data": {
      "text/plain": [
       "{a: g*(-mu_k*cos(theta) + sin(theta)), n: g*m*cos(theta)}"
      ]
     },
     "metadata": {},
     "output_type": "display_data"
    },
    {
     "data": {
      "text/latex": [
       "$\\displaystyle g \\left(- \\mu_{k} \\cos{\\left(\\theta \\right)} + \\sin{\\left(\\theta \\right)}\\right)$"
      ],
      "text/plain": [
       "g*(-mu_k*cos(theta) + sin(theta))"
      ]
     },
     "metadata": {},
     "output_type": "display_data"
    },
    {
     "data": {
      "text/latex": [
       "$\\displaystyle g m \\cos{\\left(\\theta \\right)}$"
      ],
      "text/plain": [
       "g*m*cos(theta)"
      ]
     },
     "metadata": {},
     "output_type": "display_data"
    }
   ],
   "source": [
    "from sympy import symbols,solve,Eq,sin,cos\n",
    "print('a)')\n",
    "m,a,g,muk,theta,n = symbols('m,a,g,mu_k,theta,n')\n",
    "eq1 = Eq(m*a,m*g*sin(theta)-muk*n)\n",
    "eq2 = Eq(n-m*g*cos(theta),0)\n",
    "print('Equations:')\n",
    "display(eq1)\n",
    "display(eq2)\n",
    "sol = solve([eq1,eq2],[a,n],simplify=True)\n",
    "print('Solution:')\n",
    "display(sol)\n",
    "display(sol[a])\n",
    "display(sol[n])"
   ]
  },
  {
   "cell_type": "code",
   "execution_count": 12,
   "metadata": {},
   "outputs": [
    {
     "name": "stdout",
     "output_type": "stream",
     "text": [
      "b)\n",
      "Equations:\n"
     ]
    },
    {
     "data": {
      "text/latex": [
       "$\\displaystyle - f_{s} + g m \\sin{\\left(\\theta \\right)} = 0$"
      ],
      "text/plain": [
       "Eq(-f_s + g*m*sin(theta), 0)"
      ]
     },
     "metadata": {},
     "output_type": "display_data"
    },
    {
     "data": {
      "text/latex": [
       "$\\displaystyle - g m \\cos{\\left(\\theta \\right)} + n = 0$"
      ],
      "text/plain": [
       "Eq(-g*m*cos(theta) + n, 0)"
      ]
     },
     "metadata": {},
     "output_type": "display_data"
    },
    {
     "name": "stdout",
     "output_type": "stream",
     "text": [
      "Solution:\n"
     ]
    },
    {
     "data": {
      "text/plain": [
       "{f_s: g*m*sin(theta), n: g*m*cos(theta)}"
      ]
     },
     "metadata": {},
     "output_type": "display_data"
    },
    {
     "data": {
      "text/latex": [
       "$\\displaystyle g m \\cos{\\left(\\theta \\right)}$"
      ],
      "text/plain": [
       "g*m*cos(theta)"
      ]
     },
     "metadata": {},
     "output_type": "display_data"
    },
    {
     "data": {
      "text/latex": [
       "$\\displaystyle g m \\sin{\\left(\\theta \\right)}$"
      ],
      "text/plain": [
       "g*m*sin(theta)"
      ]
     },
     "metadata": {},
     "output_type": "display_data"
    },
    {
     "data": {
      "text/latex": [
       "$\\displaystyle \\mu_{s} \\geq \\frac{f_{s}}{n}$"
      ],
      "text/plain": [
       "mu_s >= f_s/n"
      ]
     },
     "metadata": {},
     "output_type": "display_data"
    },
    {
     "data": {
      "text/latex": [
       "$\\displaystyle \\mu_{s} \\geq \\frac{\\sin{\\left(\\theta \\right)}}{\\cos{\\left(\\theta \\right)}}$"
      ],
      "text/plain": [
       "mu_s >= sin(theta)/cos(theta)"
      ]
     },
     "metadata": {},
     "output_type": "display_data"
    }
   ],
   "source": [
    "from sympy import symbols,solve,Eq,Le,sin,cos,solveset\n",
    "print('b)')\n",
    "m,g,mus,theta,n,fs = symbols('m,g,mu_s,theta,n,f_s',positive=True)\n",
    "eq1 = Eq(m*g*sin(theta)-fs,0)\n",
    "eq2 = Eq(n-m*g*cos(theta),0)\n",
    "eq3 = Le(fs,mus*n)\n",
    "print('Equations:')\n",
    "display(eq1)\n",
    "display(eq2)\n",
    "sol = solve([eq1,eq2],[n,fs],simplify=True)\n",
    "print('Solution:')\n",
    "display(sol)\n",
    "display(sol[n])\n",
    "display(sol[fs])\n",
    "sol2 = solve(fs<=mus*n,mus)\n",
    "display(sol2)\n",
    "sol2 = sol2.subs({fs:sol[fs],n:sol[n]})\n",
    "display(sol2)\n"
   ]
  },
  {
   "cell_type": "code",
   "execution_count": 13,
   "metadata": {},
   "outputs": [
    {
     "name": "stdout",
     "output_type": "stream",
     "text": [
      "c)\n"
     ]
    },
    {
     "data": {
      "text/latex": [
       "$\\displaystyle \\mu_{s} > \\frac{f_{s}}{n}$"
      ],
      "text/plain": [
       "mu_s > f_s/n"
      ]
     },
     "metadata": {},
     "output_type": "display_data"
    }
   ],
   "source": [
    "print('c)')\n",
    "sol = solve(fs<mus*n,mus)\n",
    "display(sol)"
   ]
  }
 ],
 "metadata": {
  "kernelspec": {
   "display_name": "Python 3",
   "language": "python",
   "name": "python3"
  },
  "language_info": {
   "codemirror_mode": {
    "name": "ipython",
    "version": 3
   },
   "file_extension": ".py",
   "mimetype": "text/x-python",
   "name": "python",
   "nbconvert_exporter": "python",
   "pygments_lexer": "ipython3",
   "version": "3.11.10"
  }
 },
 "nbformat": 4,
 "nbformat_minor": 5
}
