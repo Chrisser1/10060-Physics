{
 "cells": [
  {
   "cell_type": "code",
   "execution_count": 39,
   "metadata": {},
   "outputs": [],
   "source": [
    "from sympy import *"
   ]
  },
  {
   "cell_type": "markdown",
   "metadata": {},
   "source": [
    "# Chapter 3 - Problems\n",
    "![image.png](../../utils/images/Kinematic-formels.png)\n",
    "\n",
    "## Problem 1.\n",
    "![image.png](../../utils/kinematics-assignments-images/problem-1.png)\n",
    "![image.png](../../utils/kinematics-assignments-images/problem-1-continued.png)"
   ]
  },
  {
   "cell_type": "markdown",
   "metadata": {},
   "source": [
    "### Answer 1\n",
    "In the first one the answer is B) as A, E and H has a velocity of one.\n",
    "\n",
    "### Answer 2\n",
    "In the second one, the answer is C) as the tangent to the points C and F has a slope of 0.\n",
    "\n",
    "### Answer 3\n",
    "The answer is C) as the slope for their tangent is aproxemetly the same.\n",
    "\n",
    "### Answer 4\n",
    "The answer is B) as after point E that we start to run back again."
   ]
  },
  {
   "cell_type": "markdown",
   "metadata": {},
   "source": [
    "## Problem 1.\n",
    "![image.png](../../utils/kinematics-assignments-images/problem-2.png)"
   ]
  },
  {
   "cell_type": "markdown",
   "metadata": {},
   "source": [
    "### Answer\n",
    "In this case the velocity is going up at the start, is then constant and slows down at the end. So the answer is A)"
   ]
  },
  {
   "cell_type": "markdown",
   "metadata": {},
   "source": [
    "## Problem 3\n",
    "![image.png](../../utils/kinematics-assignments-images/problem-3.png)"
   ]
  },
  {
   "cell_type": "markdown",
   "metadata": {},
   "source": [
    "### Answer\n",
    "As we can see it moves the quickest at point C and right after slows down, meaning it is stopping at point D and E. The answer is D) and E)."
   ]
  },
  {
   "cell_type": "markdown",
   "metadata": {},
   "source": [
    "## Problem 4\n",
    "![image.png](../../utils/kinematics-assignments-images/problem-4.png)"
   ]
  },
  {
   "cell_type": "markdown",
   "metadata": {},
   "source": [
    "### a)\n",
    "To solve this we will first define our know variables."
   ]
  },
  {
   "cell_type": "code",
   "execution_count": 40,
   "metadata": {},
   "outputs": [],
   "source": [
    "distance = 85 # m\n",
    "a = -8 # m/s^2\n",
    "v_0 = 88 # k/h\n",
    "v_0 = v_0 * 1000 / 60 / 60 # m/s\n",
    "v = 0"
   ]
  },
  {
   "cell_type": "markdown",
   "metadata": {},
   "source": [
    "What we need to do is find out if the cars will crash. To do this we can simplify the problem to look is the car can stop before traveling half the distance. We can then use the formula:\n",
    "$$\n",
    "v^2 = v_0^2 + 2a(x-x_0)\n",
    "$$"
   ]
  },
  {
   "cell_type": "code",
   "execution_count": 41,
   "metadata": {},
   "outputs": [
    {
     "name": "stdout",
     "output_type": "stream",
     "text": [
      "The car did not move more than half the distance, it moved 37.3456790123457 m\n"
     ]
    }
   ],
   "source": [
    "x = Symbol('x')\n",
    "equation = Eq(v**2, v_0**2 + 2 * a * x)\n",
    "distance_moved = solve(equation, x)[0]\n",
    "\n",
    "# We can now check if the cars moved more than half the distance\n",
    "if distance_moved > distance / 2:\n",
    "    print(\"The car moved more than half the distance, it moved\", distance_moved, \"m\")\n",
    "else:\n",
    "    print(\"The car did not move more than half the distance, it moved\", distance_moved, \"m\")"
   ]
  },
  {
   "cell_type": "markdown",
   "metadata": {},
   "source": [
    "As the car did not move to far we can conclude that they did not hit each other"
   ]
  },
  {
   "cell_type": "markdown",
   "metadata": {},
   "source": [
    "### c)"
   ]
  },
  {
   "cell_type": "markdown",
   "metadata": {},
   "source": [
    "Does not happen"
   ]
  },
  {
   "cell_type": "markdown",
   "metadata": {},
   "source": [
    "### c)\n",
    "Each one stops at approx 37.35 m so the total distance between the two is:"
   ]
  },
  {
   "cell_type": "code",
   "execution_count": 42,
   "metadata": {},
   "outputs": [
    {
     "name": "stdout",
     "output_type": "stream",
     "text": [
      "The cars are 10.3086419753086 m appart\n"
     ]
    }
   ],
   "source": [
    "# length appart\n",
    "l = distance - distance_moved * 2\n",
    "print(\"The cars are\", l, \"m appart\")"
   ]
  },
  {
   "cell_type": "markdown",
   "metadata": {},
   "source": [
    "### d)"
   ]
  },
  {
   "cell_type": "markdown",
   "metadata": {},
   "source": [
    "To do this we will have to use the equation:\n",
    "$$\n",
    "x = x_0 + v_0 \\cdot t + \\frac{1}{2}at^2\n",
    "$$"
   ]
  },
  {
   "cell_type": "code",
   "execution_count": 43,
   "metadata": {},
   "outputs": [
    {
     "data": {
      "image/png": "[encoded data removed]",
      "text/plain": [
       "<Figure size 640x480 with 1 Axes>"
      ]
     },
     "metadata": {},
     "output_type": "display_data"
    }
   ],
   "source": [
    "import matplotlib.pyplot as plt\n",
    "import numpy as np\n",
    "\n",
    "# plot of x = x_0 + v_0 * t + 1/2 * a * t^2\n",
    "t = Symbol('t')\n",
    "x = v_0 * t + 1/2 * a * t**2\n",
    "x = lambdify(t, x, 'numpy')\n",
    "t = np.linspace(0, 4, 100)\n",
    "plt.plot(t, x(t))\n",
    "plt.xlabel('Time (s)')\n",
    "plt.ylabel('Distance (m)')\n",
    "plt.title('Distance as a function of time')\n",
    "plt.show()"
   ]
  },
  {
   "cell_type": "markdown",
   "metadata": {},
   "source": [
    "## Problem 5\n",
    "![image.png](../../utils/kinematics-assignments-images/problem-5.png)"
   ]
  },
  {
   "cell_type": "code",
   "execution_count": 44,
   "metadata": {},
   "outputs": [],
   "source": [
    "v_0 = 50 # k/h\n",
    "v_0 = v_0 * 1000 / 60 / 60 # m/s\n",
    "distance_between = 100 # m\n",
    "a = -5 # m/s^2\n",
    "v = 0"
   ]
  },
  {
   "cell_type": "code",
   "execution_count": 45,
   "metadata": {},
   "outputs": [
    {
     "name": "stdout",
     "output_type": "stream",
     "text": [
      "The car did not move more than half the distance, it moved 19.2901234567901 m\n"
     ]
    }
   ],
   "source": [
    "x = Symbol('x')\n",
    "equation = Eq(v**2, v_0**2 + 2 * a * x)\n",
    "distance_moved = solve(equation, x)[0]\n",
    "\n",
    "# We can now check if the cars moved more than half the distance\n",
    "if distance_moved > distance_between / 2:\n",
    "    print(\"The car moved more than half the distance, it moved\", distance_moved, \"m\")\n",
    "else:\n",
    "    print(\"The car did not move more than half the distance, it moved\", distance_moved, \"m\")"
   ]
  },
  {
   "cell_type": "markdown",
   "metadata": {},
   "source": [
    "As we see that this is not a possible answer we want to check the time it took to stop. We can use the equation:\n",
    "\n",
    "$$\n",
    "v = v_0 + a \\cdot t\n",
    "$$"
   ]
  },
  {
   "cell_type": "code",
   "execution_count": 46,
   "metadata": {},
   "outputs": [
    {
     "name": "stdout",
     "output_type": "stream",
     "text": [
      "It took 2.78 s\n"
     ]
    }
   ],
   "source": [
    "t = Symbol('t')\n",
    "equation = Eq(v_0 + a * t, 0)\n",
    "time = solve(equation, t)[0]\n",
    "time = round(time, 2)\n",
    "print(\"It took\", time, \"s\")"
   ]
  },
  {
   "cell_type": "markdown",
   "metadata": {},
   "source": [
    "The answer is H) as we found them to stand still after 2.78s."
   ]
  },
  {
   "cell_type": "markdown",
   "metadata": {},
   "source": [
    "## Problem 6\n",
    "![image.png](../../utils/kinematics-assignments-images/problem-6.png)"
   ]
  },
  {
   "cell_type": "code",
   "execution_count": 47,
   "metadata": {},
   "outputs": [],
   "source": [
    "v_0 = 95 # k/h\n",
    "v_0 = v_0 * 1000 / 60 / 60 # m/s\n",
    "distance_between = 60 # m\n",
    "a = -8 # m/s^2\n",
    "reaction_speed = 1.5 # s"
   ]
  },
  {
   "cell_type": "markdown",
   "metadata": {},
   "source": [
    "We can now use the equation:\n",
    "$$\n",
    "x = x_0 + v_0t + \\frac{1}{2}at^2\n",
    "$$"
   ]
  },
  {
   "cell_type": "code",
   "execution_count": 48,
   "metadata": {},
   "outputs": [
    {
     "data": {
      "text/plain": [
       "39.583333333333336"
      ]
     },
     "execution_count": 48,
     "metadata": {},
     "output_type": "execute_result"
    }
   ],
   "source": [
    "# We calculate how far we moved before we started to break\n",
    "distance_moved = v_0 * reaction_speed # m - a = 0, so not needed to calculate the distance moved\n",
    "distance_moved"
   ]
  },
  {
   "cell_type": "code",
   "execution_count": 49,
   "metadata": {},
   "outputs": [
    {
     "data": {
      "text/latex": [
       "$\\displaystyle 69.2199393238682$"
      ],
      "text/plain": [
       "69.2199393238682"
      ]
     },
     "execution_count": 49,
     "metadata": {},
     "output_type": "execute_result"
    }
   ],
   "source": [
    "# We can now calculate the speed when reaching the pedestrian\n",
    "distance_from_breaking = distance_between - distance_moved # m\n",
    "v = sqrt(v_0**2 + 2 * a * distance_from_breaking)\n",
    "\n",
    "# We calculate it in km/h\n",
    "v = v * 60 * 60 / 1000\n",
    "v"
   ]
  },
  {
   "cell_type": "markdown",
   "metadata": {},
   "source": [
    "## Problem 7\n",
    "![image.png](../../utils/kinematics-assignments-images/problem-7.png)"
   ]
  },
  {
   "cell_type": "markdown",
   "metadata": {},
   "source": [
    "**A)** True\n",
    "\n",
    "**B)** False\n",
    "\n",
    "**C)** False\n",
    "\n",
    "**D)** True\n",
    "\n",
    "**E)** True\n",
    "\n",
    "**F)** False"
   ]
  },
  {
   "cell_type": "markdown",
   "metadata": {},
   "source": [
    "#### Calculations of C and D"
   ]
  },
  {
   "cell_type": "code",
   "execution_count": 50,
   "metadata": {},
   "outputs": [
    {
     "data": {
      "text/plain": [
       "25.0"
      ]
     },
     "execution_count": 50,
     "metadata": {},
     "output_type": "execute_result"
    }
   ],
   "source": [
    "'''\n",
    " Assignment C code\n",
    "'''\n",
    "\n",
    "# Area under the curve from t = 0 to t = 2\n",
    "delta_t = 2\n",
    "height = 10\n",
    "\n",
    "# As it is a triangle, we can calculate the area as 1/2 * base * height\n",
    "area_1 = 1/2 * delta_t * height\n",
    "\n",
    "# Area under the curve from t = 2 to t = 4 is composed of a triangle and a rectangle\n",
    "delta_t = 2\n",
    "height = 5 # Triangle and square\n",
    "base = 5 # Triangle\n",
    "area_2 = 1/2 * delta_t * height + delta_t * base\n",
    "\n",
    "# Total area\n",
    "total_area = area_1 + area_2\n",
    "total_area"
   ]
  },
  {
   "cell_type": "code",
   "execution_count": 51,
   "metadata": {},
   "outputs": [
    {
     "data": {
      "text/plain": [
       "10.0"
      ]
     },
     "execution_count": 51,
     "metadata": {},
     "output_type": "execute_result"
    }
   ],
   "source": [
    "'''\n",
    " Assignment D code\n",
    "'''\n",
    "\n",
    "# Area under the curve from t = 6 to t = 8\n",
    "delta_t = 2\n",
    "height = 5\n",
    "\n",
    "# It is composed of two triangles of height 5\n",
    "area = 1/2 * delta_t * height\n",
    "\n",
    "# Total area\n",
    "total_area = area * 2\n",
    "total_area"
   ]
  },
  {
   "cell_type": "markdown",
   "metadata": {},
   "source": [
    "## Problem 8\n",
    "![image.png](../../utils/kinematics-assignments-images/problem-8.png)"
   ]
  },
  {
   "cell_type": "markdown",
   "metadata": {},
   "source": [
    "### Answer\n"
   ]
  },
  {
   "cell_type": "markdown",
   "metadata": {},
   "source": [
    "To solve this we will make use of the equation:\n",
    "\n",
    "$$\n",
    "x = x_0 + v_0t + \\frac{1}{2}at^2\n",
    "$$\n",
    "\n",
    "We know that $x_0$ and $v_0$ are both equal to 0, so we have the equation:\n",
    "\n",
    "$$\n",
    "x = \\frac{1}{2} at^2\n",
    "$$\n",
    "\n",
    "We can now say that car one is at:\n",
    "\n",
    "$$\n",
    "x_1 = \\frac{1}{2} \\cdot a \\cdot T^2\n",
    "$$\n",
    "\n",
    "when the second car starts moving at $ t = \\frac{T}{2} $. However, the second car starts from rest and follows the same acceleration $ a $, so it moves a distance:\n",
    "\n",
    "$$\n",
    "x_2 = \\frac{1}{2} \\cdot a \\cdot \\left(\\frac{T}{2}\\right)^2 = \\frac{1}{2} \\cdot a \\cdot \\frac{T^2}{4} = \\frac{1}{8} a T^2\n",
    "$$\n",
    "\n",
    "in the remaining time.\n",
    "\n",
    "Now, we find the difference between their positions:\n",
    "\n",
    "$$\n",
    "x_1 - x_2 = \\left(\\frac{1}{2} a T^2\\right) - \\left(\\frac{1}{8} a T^2\\right)\n",
    "$$\n",
    "\n",
    "$$\n",
    "= \\left(\\frac{4}{8} a T^2\\right) - \\left(\\frac{1}{8} a T^2\\right)\n",
    "$$\n",
    "\n",
    "$$\n",
    "= \\frac{3}{8} a T^2\n",
    "$$\n",
    "\n",
    "Thus, the correct answer is:\n",
    "\n",
    "$$\n",
    "L = \\frac{3}{8} a T^2\n",
    "$$\n"
   ]
  },
  {
   "cell_type": "markdown",
   "metadata": {},
   "source": [
    "## Problem 9\n",
    "![image.png](../../utils/kinematics-assignments-images/problem-9.png)"
   ]
  },
  {
   "cell_type": "markdown",
   "metadata": {},
   "source": [
    "To solve this question we want to know how far the car moves when stopping from it's top speed"
   ]
  },
  {
   "cell_type": "code",
   "execution_count": 52,
   "metadata": {},
   "outputs": [],
   "source": [
    "travel_distance = 500 # m\n",
    "a = 1 # m/s^2\n",
    "break_a = -2 # m/s^2\n",
    "v_0 = 0 # m/s\n",
    "v_max = 10 # m/s"
   ]
  },
  {
   "cell_type": "code",
   "execution_count": 53,
   "metadata": {},
   "outputs": [
    {
     "data": {
      "text/latex": [
       "$\\displaystyle 25$"
      ],
      "text/plain": [
       "25"
      ]
     },
     "execution_count": 53,
     "metadata": {},
     "output_type": "execute_result"
    }
   ],
   "source": [
    "x_stop = Symbol('x')\n",
    "equation = Eq(0, v_max**2 + 2 * break_a * x_stop)\n",
    "distance_moved_when_stopping = solve(equation, x_stop)[0]\n",
    "distance_moved_when_stopping"
   ]
  },
  {
   "cell_type": "markdown",
   "metadata": {},
   "source": [
    "We calculate how far we move when accelerating"
   ]
  },
  {
   "cell_type": "code",
   "execution_count": 54,
   "metadata": {},
   "outputs": [
    {
     "data": {
      "text/latex": [
       "$\\displaystyle 50$"
      ],
      "text/plain": [
       "50"
      ]
     },
     "execution_count": 54,
     "metadata": {},
     "output_type": "execute_result"
    }
   ],
   "source": [
    "x_start = Symbol('x')\n",
    "equation = Eq(v_max**2, 2 * a * x_start)\n",
    "distance_moved_when_starting = solve(equation, x_start)[0]\n",
    "distance_moved_when_starting"
   ]
  },
  {
   "cell_type": "code",
   "execution_count": 55,
   "metadata": {},
   "outputs": [
    {
     "data": {
      "text/latex": [
       "$\\displaystyle 425$"
      ],
      "text/plain": [
       "425"
      ]
     },
     "execution_count": 55,
     "metadata": {},
     "output_type": "execute_result"
    }
   ],
   "source": [
    "distance_at_top_speed = travel_distance - (distance_moved_when_stopping + distance_moved_when_starting)\n",
    "distance_at_top_speed"
   ]
  },
  {
   "cell_type": "code",
   "execution_count": 56,
   "metadata": {},
   "outputs": [
    {
     "data": {
      "text/latex": [
       "$\\displaystyle 57.5$"
      ],
      "text/plain": [
       "57.50"
      ]
     },
     "execution_count": 56,
     "metadata": {},
     "output_type": "execute_result"
    }
   ],
   "source": [
    "# We calculate the time it takes to reach the top speed\n",
    "t = Symbol('t')\n",
    "equation = Eq(v_max, a * t)\n",
    "time_to_top_speed = solve(equation, t)[0]\n",
    "\n",
    "# We calculate the time it takes to stop\n",
    "t = Symbol('t')\n",
    "equation = Eq(0, v_max + break_a * t)\n",
    "time_to_stop = solve(equation, t)[0]\n",
    "\n",
    "# We calculate the time it takes to travel at top speed\n",
    "time_at_top_speed = distance_at_top_speed / v_max\n",
    "\n",
    "# Total time\n",
    "total_time = time_to_top_speed + time_at_top_speed + time_to_stop\n",
    "round(total_time,2)"
   ]
  },
  {
   "cell_type": "code",
   "execution_count": 57,
   "metadata": {},
   "outputs": [
    {
     "data": {
      "image/png": "[encoded data removed]",
      "text/plain": [
       "<Figure size 640x480 with 1 Axes>"
      ]
     },
     "metadata": {},
     "output_type": "display_data"
    }
   ],
   "source": [
    "# We make a function that takes the time as input and returns the velocity\n",
    "def v(t):\n",
    "    return np.piecewise(t,\n",
    "                        [t <= time_to_top_speed,\n",
    "                         (t > time_to_top_speed) & (t < time_to_top_speed + time_at_top_speed),\n",
    "                         t >= time_to_top_speed + time_at_top_speed],\n",
    "                        [lambda t: a * t,\n",
    "                         lambda t: v_max,\n",
    "                         lambda t: v_max + break_a * (t - time_to_top_speed - time_at_top_speed)])\n",
    "\n",
    "# Generate time values\n",
    "t_values = np.linspace(0, float(total_time), 1000)\n",
    "v_values = v(t_values)\n",
    "\n",
    "# Plot\n",
    "plt.plot(t_values, v_values)\n",
    "plt.xlabel('Time (s)')\n",
    "plt.ylabel('Velocity (m/s)')\n",
    "plt.title('Velocity as a Function of Time')\n",
    "plt.grid()\n",
    "plt.show()"
   ]
  },
  {
   "cell_type": "markdown",
   "metadata": {},
   "source": [
    "So we know that it all takes 57.5s and the  graph of the velocity of the car is shown above"
   ]
  },
  {
   "cell_type": "markdown",
   "metadata": {},
   "source": [
    "## Problem 10\n",
    "![image.png](../../utils/kinematics-assignments-images/problem-10.png)\n"
   ]
  },
  {
   "cell_type": "markdown",
   "metadata": {},
   "source": [
    "### Answer\n",
    "\n",
    "We use the **kinematic equations** for constant acceleration to determine the initial velocity $ v_0 $.\n",
    "\n",
    "#### **Determine Velocity at Ground Level**\n",
    "Using the kinematic equation:\n",
    "\n",
    "$$\n",
    "v^2 = v_0^2 + 2a(x - x_0)\n",
    "$$\n",
    "\n",
    "For free fall:\n",
    "- $ a = -g $ (acceleration due to gravity)\n",
    "- Initial position $ x_0 = h_0 $\n",
    "- Final position $ x = 0 $ (ground level)\n",
    "\n",
    "We then substitute:\n",
    "\n",
    "$$\n",
    "v^2 = v_0^2 - 2g h_0\n",
    "$$\n",
    "\n",
    "Thus, the velocity just before hitting the ground is:\n",
    "\n",
    "$$\n",
    "v = \\sqrt{v_0^2 + 2g h_0}\n",
    "$$\n",
    "\n",
    "#### **Determine Velocity Needed to Reach Height $ h_1 $**\n",
    "After the ball bounces, it reaches height $ h_1 $. At this maximum height, the velocity becomes zero:\n",
    "\n",
    "$$\n",
    "0 = v^2 - 2g h_1\n",
    "$$\n",
    "\n",
    "Substitute the value of $ v $ from the previous step:\n",
    "\n",
    "$$\n",
    "0 = (v_0^2 + 2g h_0) - 2g h_1\n",
    "$$\n",
    "\n",
    "Rearranging to solve for $ v_0 $:\n",
    "\n",
    "$$\n",
    "v_0^2 + 2g h_0 = 2g h_1\n",
    "$$\n",
    "\n",
    "$$\n",
    "v_0^2 = 2g (h_1 - h_0)\n",
    "$$\n",
    "\n",
    "$$\n",
    "v_0 = \\sqrt{2g (h_1 - h_0)}\n",
    "$$\n",
    "\n",
    "#### **Final Answer**\n",
    "Therefore, the initial velocity is:\n",
    "\n",
    "$$\n",
    "\\boxed{v_0 = \\sqrt{2g(h_1 - h_0)}}\n",
    "$$\n",
    "\n",
    "which corresponds to **option D**.\n"
   ]
  },
  {
   "cell_type": "markdown",
   "metadata": {},
   "source": [
    "## Problem 11\n",
    "![image.png](../../utils/kinematics-assignments-images/problem-11.png)"
   ]
  },
  {
   "cell_type": "markdown",
   "metadata": {},
   "source": [
    "### Answer\n",
    "We want to determine what fraction of the jump time the athlete spends at a height $ y > h/2 $.\n",
    "\n",
    "#### Kinematic Analysis\n",
    "\n",
    "Using kinematic equations, the height $ y $ as a function of time during free-fall motion is given by:\n",
    "\n",
    "$$ y = v_0 t - \\frac{1}{2} g t^2 $$\n",
    "\n",
    "where:\n",
    "- $ v_0 $ is the initial velocity,\n",
    "- $ g $ is the acceleration due to gravity, and\n",
    "- $ t $ is the time.\n",
    "\n",
    "The total time to reach height $ h $ is derived from $ v_0 = \\sqrt{2gh} $, so the half time of flight is:\n",
    "\n",
    "$$\n",
    "T_half = \\frac{v_0}{g}\n",
    "$$\n",
    "\n",
    "We can now say that the total flight time is:\n",
    "\n",
    "$$\n",
    "T_total = 2 T_half\n",
    "$$\n",
    "\n",
    "\n",
    "Now, let's calculate the fraction of time spent above by setting $ y = \\frac{h}{2} $ which can leed us to leads to a quadratic equation in t which has two solutions: $ t_1 $ (on the way up) and $ t_2 $ (on the way down)."
   ]
  },
  {
   "cell_type": "code",
   "execution_count": 58,
   "metadata": {},
   "outputs": [],
   "source": [
    "# Define variables\n",
    "t, h, g = symbols('t h g', real=True, positive=True)\n",
    "\n",
    "# Initial velocity from energy conservation: v0 = sqrt(2gh)\n",
    "v0 = sqrt(2 * g * h)\n",
    "\n",
    "# Time to reach maximum height (apex)\n",
    "T_half = v0 / g\n",
    "\n",
    "# Height equation as a function of time (for upward and downward motion)\n",
    "y = v0 * t - (1/2) * g * t**2\n",
    "\n",
    "# Solve for times when y equals h/2\n",
    "t1, t2 = solve(y - h/2, t)\n",
    "\n",
    "# Total time of flight (ascent + descent)\n",
    "T_total = 2 * T_half"
   ]
  },
  {
   "cell_type": "markdown",
   "metadata": {},
   "source": [
    "#### Time spend above h/2\n",
    "We can say that the athlete is above $ \\frac{h}{2} $ between the times $ t_1 $ and $ t_2 $, so the correct time spent above $ \\frac{h}{2} $ is $ t_2 - t_1 $."
   ]
  },
  {
   "cell_type": "code",
   "execution_count": 59,
   "metadata": {},
   "outputs": [
    {
     "data": {
      "text/latex": [
       "$\\displaystyle 70.7$"
      ],
      "text/plain": [
       "70.7"
      ]
     },
     "execution_count": 59,
     "metadata": {},
     "output_type": "execute_result"
    }
   ],
   "source": [
    "\n",
    "# Correct: Time spent above h/2 is the interval between t1 and t2\n",
    "time_above_half = t2 - t1\n",
    "\n",
    "# Fraction of the total jump time spent above h/2\n",
    "fraction = time_above_half / T_total\n",
    "\n",
    "# Simplify the expression for the fraction\n",
    "result = simplify(fraction)\n",
    "round(result*100,1)"
   ]
  },
  {
   "cell_type": "markdown",
   "metadata": {},
   "source": [
    "## Problem 12 \n",
    "![image.png](../../utils/kinematics-assignments-images/problem-12.png)"
   ]
  },
  {
   "cell_type": "markdown",
   "metadata": {},
   "source": [
    "### **a)**\n",
    "To solve this ve can use the equation:\n",
    "$$\n",
    "v^2 = v_0^2 + 2a(x-x_0)\n",
    "$$\n",
    "\n",
    "where\n",
    "* $v_0 = 0$\n",
    "* $a = g$ \n",
    "* $x_0 = R$\n",
    "* $x = 0$\n",
    "* $x - x_0 = -R$\n",
    "\n",
    "we can now solve for final velocity:\n",
    "$$\n",
    "v^2 = 0 + 2g(-R)\n",
    "$$\n",
    "\n",
    "$$\n",
    "\\Leftrightarrow v^2 = 2g(-R)\n",
    "$$\n",
    "\n",
    "Since we are solving for speed, and speed is always a positive quantity, we take the magnitude:\n",
    "$$\n",
    "\\Leftrightarrow v^2 = 2gR\n",
    "$$\n",
    "\n",
    "$$\n",
    "\\Leftrightarrow v = \\sqrt{2gR}\n",
    "$$"
   ]
  },
  {
   "cell_type": "markdown",
   "metadata": {},
   "source": [
    "### **b)**\n",
    "We are given that in the earth:\n",
    "\n",
    "$$\n",
    "a = -\\frac{x}{R}g\n",
    "$$\n",
    "\n",
    "From the derivation, we use the chain rule:\n",
    "\n",
    "$$\n",
    "a = \\frac{dv}{dt} = \\frac{dv}{dx} \\cdot \\frac{dx}{dt} = \\frac{dv}{dx}v\n",
    "$$\n",
    "\n",
    "We can rearrange this as:\n",
    "$$\n",
    "a dx = v dv\n",
    "$$\n",
    "\n",
    "Now we substitute for a\n",
    "$$\n",
    "-\\frac{x}{R}g dx = v dv\n",
    "$$\n",
    "\n",
    "We integrate Both Sides\n",
    "$$\n",
    "\\int^0_R-\\frac{x}{R}g dx = \\int^v_0v dv\n",
    "$$\n",
    "\n",
    "#### Left side\n",
    "$$\n",
    "\\int^0_R-\\frac{x}{R}g dx = -\\frac{g}{R}\\int^0_Rx dx\n",
    "$$\n",
    "\n",
    "The integral of x is:\n",
    "$$\n",
    "\\frac{1}{2} \\cdot x^2 = \\frac{x^2}{2}\n",
    "$$\n",
    "\n",
    "Evaluating from R to 0:\n",
    "$$\n",
    "[\\frac{x^2}{2}]^0_R = \\frac{0^2}{2} - \\frac{R^2}{2} = - \\frac{R^2}{2}\n",
    "$$\n",
    "\n",
    "We now have\n",
    "$$\n",
    "- \\frac{R^2}{2} \\cdot -\\frac{g}{R} = \\frac{gR}{2}\n",
    "$$\n",
    "\n",
    "#### Right Side\n",
    "$$\n",
    "\\int^v_0v dv = \\frac{1}{2} \\cdot v^2 = \\frac{v^2}{2}\n",
    "$$\n",
    "\n",
    "#### Solving for v\n",
    "$$\n",
    "\\frac{gR}{2} = \\frac{v^2}{2}\n",
    "$$\n",
    "\n",
    "multiply by 2\n",
    "\n",
    "$$\n",
    "\\Leftrightarrow gR = v^2\n",
    "$$\n",
    "\n",
    "$$\n",
    "\\Leftrightarrow v = \\sqrt{gR}\n",
    "$$\n",
    "\n",
    "This is the speed of the stone as it crosses the center of the Earth. Notice that it is different from our previous result because in this case, gravity is not constant, but rather varies with position inside the Earth."
   ]
  }
 ],
 "metadata": {
  "kernelspec": {
   "display_name": "DTUMisc",
   "language": "python",
   "name": "python3"
  },
  "language_info": {
   "codemirror_mode": {
    "name": "ipython",
    "version": 3
   },
   "file_extension": ".py",
   "mimetype": "text/x-python",
   "name": "python",
   "nbconvert_exporter": "python",
   "pygments_lexer": "ipython3",
   "version": "3.11.10"
  }
 },
 "nbformat": 4,
 "nbformat_minor": 2
}
